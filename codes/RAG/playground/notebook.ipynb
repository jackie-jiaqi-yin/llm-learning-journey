{
 "cells": [
  {
   "cell_type": "code",
   "id": "initial_id",
   "metadata": {
    "collapsed": true,
    "ExecuteTime": {
     "end_time": "2024-10-23T07:47:43.055694Z",
     "start_time": "2024-10-23T07:47:43.050573Z"
    }
   },
   "source": [
    "import os\n",
    "\n",
    "from transformers.utils.chat_template_utils import returns_re\n",
    "\n",
    "os.chdir('..')\n",
    "print(os.getcwd())"
   ],
   "outputs": [
    {
     "name": "stdout",
     "output_type": "stream",
     "text": [
      "/Users/Placebo/MyTechProjects/LLM-Learning/codes/RAG\n"
     ]
    }
   ],
   "execution_count": 1
  },
  {
   "metadata": {
    "ExecuteTime": {
     "end_time": "2024-10-23T07:47:46.918912Z",
     "start_time": "2024-10-23T07:47:44.929475Z"
    }
   },
   "cell_type": "code",
   "source": [
    "%load_ext autoreload\n",
    "%autoreload 2\n",
    "from src.utils import *\n",
    "load_llm_config()"
   ],
   "id": "cd60a56fd64d4b13",
   "outputs": [],
   "execution_count": 2
  },
  {
   "metadata": {
    "ExecuteTime": {
     "end_time": "2024-10-23T07:47:47.013548Z",
     "start_time": "2024-10-23T07:47:46.923064Z"
    }
   },
   "cell_type": "code",
   "source": [
    "from dotenv import load_dotenv\n",
    "from llama_parse import LlamaParse\n",
    "from llama_index.core import (\n",
    "    VectorStoreIndex,\n",
    "    StorageContext,\n",
    "    load_index_from_storage\n",
    ")\n",
    "from llama_index.core.node_parser import SentenceSplitter\n",
    "from llama_index.core.extractors import (\n",
    "    TitleExtractor, \n",
    "    QuestionsAnsweredExtractor)\n",
    "from llama_index.core.ingestion import IngestionPipeline\n",
    "from llama_index.retrievers.bm25 import BM25Retriever\n",
    "import Stemmer\n",
    "import nest_asyncio\n",
    "nest_asyncio.apply()\n",
    "import asyncio"
   ],
   "id": "ab85a3ac029a7b4a",
   "outputs": [],
   "execution_count": 3
  },
  {
   "metadata": {
    "ExecuteTime": {
     "end_time": "2024-10-23T07:55:40.530348Z",
     "start_time": "2024-10-23T07:55:34.667125Z"
    }
   },
   "cell_type": "code",
   "source": [
    "# load document\n",
    "load_dotenv()\n",
    "pdf_path = '../data/tesla.pdf'\n",
    "parser = LlamaParse(\n",
    "    api_key = os.getenv('LLAMA_CLOUD_API_KEY'),\n",
    "    show_progress = True,\n",
    "    n_workers = 8\n",
    ")\n",
    "documents = await parser.aload_data(pdf_path)"
   ],
   "id": "b37721892cfd100d",
   "outputs": [
    {
     "name": "stdout",
     "output_type": "stream",
     "text": [
      "Started parsing the file under job_id 8261cf44-8379-48af-b1c4-b70e3426f792\n"
     ]
    }
   ],
   "execution_count": 12
  },
  {
   "metadata": {},
   "cell_type": "markdown",
   "source": "# Indexing",
   "id": "788e8a75b6fdf261"
  },
  {
   "metadata": {
    "ExecuteTime": {
     "end_time": "2024-10-23T07:55:55.524868Z",
     "start_time": "2024-10-23T07:55:53.008487Z"
    }
   },
   "cell_type": "code",
   "source": [
    "\n",
    "pipeline = IngestionPipeline(\n",
    "    transformations=[\n",
    "        SentenceSplitter(chunk_size=512, chunk_overlap=20),\n",
    "    ]\n",
    ")\n",
    "nodes = pipeline.run(documents=documents, num_workers=8)"
   ],
   "id": "51cd2ceae8a119a",
   "outputs": [
    {
     "name": "stderr",
     "output_type": "stream",
     "text": [
      "WARNING:root:Removing unpickleable private attribute _chunking_tokenizer_fn\n",
      "WARNING:root:Removing unpickleable private attribute _split_fns\n",
      "WARNING:root:Removing unpickleable private attribute _sub_sentence_split_fns\n",
      "WARNING:root:Removing unpickleable private attribute _chunking_tokenizer_fn\n",
      "WARNING:root:Removing unpickleable private attribute _split_fns\n",
      "WARNING:root:Removing unpickleable private attribute _sub_sentence_split_fns\n",
      "WARNING:root:Removing unpickleable private attribute _chunking_tokenizer_fn\n",
      "WARNING:root:Removing unpickleable private attribute _split_fns\n",
      "WARNING:root:Removing unpickleable private attribute _sub_sentence_split_fns\n",
      "WARNING:root:Removing unpickleable private attribute _chunking_tokenizer_fn\n",
      "WARNING:root:Removing unpickleable private attribute _split_fns\n",
      "WARNING:root:Removing unpickleable private attribute _sub_sentence_split_fns\n",
      "WARNING:root:Removing unpickleable private attribute _chunking_tokenizer_fn\n",
      "WARNING:root:Removing unpickleable private attribute _split_fns\n",
      "WARNING:root:Removing unpickleable private attribute _sub_sentence_split_fns\n",
      "WARNING:root:Removing unpickleable private attribute _chunking_tokenizer_fn\n",
      "WARNING:root:Removing unpickleable private attribute _split_fns\n",
      "WARNING:root:Removing unpickleable private attribute _sub_sentence_split_fns\n",
      "WARNING:root:Removing unpickleable private attribute _chunking_tokenizer_fn\n",
      "WARNING:root:Removing unpickleable private attribute _split_fns\n",
      "WARNING:root:Removing unpickleable private attribute _sub_sentence_split_fns\n",
      "WARNING:root:Removing unpickleable private attribute _chunking_tokenizer_fn\n",
      "WARNING:root:Removing unpickleable private attribute _split_fns\n",
      "WARNING:root:Removing unpickleable private attribute _sub_sentence_split_fns\n",
      "WARNING:root:Removing unpickleable private attribute _chunking_tokenizer_fn\n",
      "WARNING:root:Removing unpickleable private attribute _split_fns\n",
      "WARNING:root:Removing unpickleable private attribute _sub_sentence_split_fns\n"
     ]
    },
    {
     "ename": "AttributeError",
     "evalue": "'list' object has no attribute 'persist'",
     "output_type": "error",
     "traceback": [
      "\u001B[0;31m---------------------------------------------------------------------------\u001B[0m",
      "\u001B[0;31mAttributeError\u001B[0m                            Traceback (most recent call last)",
      "Cell \u001B[0;32mIn[14], line 8\u001B[0m\n\u001B[1;32m      6\u001B[0m nodes \u001B[38;5;241m=\u001B[39m pipeline\u001B[38;5;241m.\u001B[39mrun(documents\u001B[38;5;241m=\u001B[39mdocuments, num_workers\u001B[38;5;241m=\u001B[39m\u001B[38;5;241m8\u001B[39m)\n\u001B[1;32m      7\u001B[0m \u001B[38;5;66;03m# save nodes\u001B[39;00m\n\u001B[0;32m----> 8\u001B[0m \u001B[43mnodes\u001B[49m\u001B[38;5;241;43m.\u001B[39;49m\u001B[43mpersist\u001B[49m(\u001B[38;5;124m'\u001B[39m\u001B[38;5;124m../data/nodes\u001B[39m\u001B[38;5;124m'\u001B[39m)\n",
      "\u001B[0;31mAttributeError\u001B[0m: 'list' object has no attribute 'persist'"
     ]
    }
   ],
   "execution_count": 14
  },
  {
   "metadata": {
    "ExecuteTime": {
     "end_time": "2024-10-23T07:34:36.864475Z",
     "start_time": "2024-10-23T07:34:36.831437Z"
    }
   },
   "cell_type": "code",
   "source": [
    "# # run llm based\n",
    "# llm_pipeline = IngestionPipeline(\n",
    "#     transformations=[\n",
    "#         TitleExtractor(nodes=5),\n",
    "#         QuestionsAnsweredExtractor(questions=8)\n",
    "#     ]\n",
    "# )\n",
    "# nodes = llm_pipeline.arun(nodes=nodes, num_workers=10)"
   ],
   "id": "dd51558e8cc24569",
   "outputs": [],
   "execution_count": 13
  },
  {
   "metadata": {
    "ExecuteTime": {
     "end_time": "2024-10-23T07:36:09.897155Z",
     "start_time": "2024-10-23T07:35:05.469257Z"
    }
   },
   "cell_type": "code",
   "source": "index = VectorStoreIndex(nodes=nodes)",
   "id": "2a6544e9c12db413",
   "outputs": [],
   "execution_count": 17
  },
  {
   "metadata": {
    "ExecuteTime": {
     "end_time": "2024-10-23T07:36:17.781616Z",
     "start_time": "2024-10-23T07:36:15.446293Z"
    }
   },
   "cell_type": "code",
   "source": "index.storage_context.persist(persist_dir='../data/index_storage')",
   "id": "85ba0f227685b8f6",
   "outputs": [],
   "execution_count": 18
  },
  {
   "metadata": {
    "ExecuteTime": {
     "end_time": "2024-10-23T07:47:54.928541Z",
     "start_time": "2024-10-23T07:47:50.518577Z"
    }
   },
   "cell_type": "code",
   "source": [
    "# load\n",
    "storage_context = StorageContext.from_defaults(persist_dir='../data/index_storage')\n",
    "index = load_index_from_storage(storage_context)"
   ],
   "id": "a5cc5a61d78420df",
   "outputs": [],
   "execution_count": 4
  },
  {
   "metadata": {},
   "cell_type": "markdown",
   "source": "# Retrieval",
   "id": "bbb19a32c97d04b4"
  },
  {
   "metadata": {
    "ExecuteTime": {
     "end_time": "2024-10-23T07:48:36.469038Z",
     "start_time": "2024-10-23T07:48:36.375254Z"
    }
   },
   "cell_type": "code",
   "source": [
    "bm25_retriever = BM25Retriever.from_defaults(\n",
    "    docstore = index.docstore,\n",
    "    similarity_top_k = 10,\n",
    "    stemmer = Stemmer.Stemmer('english'),\n",
    "    language = 'en'\n",
    ")\n",
    "bm25_retriever.persist('../data/bm25_retriever')"
   ],
   "id": "b849fe08032b2d8f",
   "outputs": [
    {
     "data": {
      "text/plain": [
       "Finding newlines for mmindex:   0%|          | 0.00/892k [00:00<?, ?B/s]"
      ],
      "application/vnd.jupyter.widget-view+json": {
       "version_major": 2,
       "version_minor": 0,
       "model_id": "59465a3845b9467eb707301bdb82c4a5"
      }
     },
     "metadata": {},
     "output_type": "display_data"
    }
   ],
   "execution_count": 6
  },
  {
   "metadata": {},
   "cell_type": "markdown",
   "source": "## Create retriever engine",
   "id": "8bdc409a4beab465"
  },
  {
   "metadata": {
    "ExecuteTime": {
     "end_time": "2024-10-23T07:54:29.540709Z",
     "start_time": "2024-10-23T07:54:29.512252Z"
    }
   },
   "cell_type": "code",
   "source": [
    "from llama_index.core.retrievers import VectorIndexRetriever, QueryFusionRetriever\n",
    "from llama_index.core.query_engine import TransformQueryEngine, RetrieverQueryEngine"
   ],
   "id": "242b7709e5281b80",
   "outputs": [],
   "execution_count": 9
  },
  {
   "metadata": {
    "ExecuteTime": {
     "end_time": "2024-10-23T07:56:12.603614Z",
     "start_time": "2024-10-23T07:56:12.577165Z"
    }
   },
   "cell_type": "code",
   "source": [
    "index_retriever = VectorIndexRetriever(\n",
    "    index = index,\n",
    "    nodes = nodes,\n",
    "    similarity_top_k=10\n",
    ")"
   ],
   "id": "89653512746beeba",
   "outputs": [],
   "execution_count": 15
  },
  {
   "metadata": {
    "ExecuteTime": {
     "end_time": "2024-10-23T07:58:35.207831Z",
     "start_time": "2024-10-23T07:58:35.178765Z"
    }
   },
   "cell_type": "code",
   "source": [
    "hybrid_retriever = QueryFusionRetriever(\n",
    "    retrievers = [bm25_retriever, index_retriever],\n",
    "    similarity_top_k=5,\n",
    "    num_queries=3,\n",
    "    use_async=True,\n",
    "    verbose=True\n",
    ")\n"
   ],
   "id": "ebed7dc2c64c7182",
   "outputs": [],
   "execution_count": 17
  },
  {
   "metadata": {
    "ExecuteTime": {
     "end_time": "2024-10-23T08:08:46.698266Z",
     "start_time": "2024-10-23T08:08:46.666089Z"
    }
   },
   "cell_type": "code",
   "source": [
    "async def get_response(query):\n",
    "    response = await hybrid_retriever_engine.aquery(query)\n",
    "    return response \n",
    "\n",
    "hybrid_retriever_engine = RetrieverQueryEngine.from_args(hybrid_retriever)"
   ],
   "id": "d75e95a636ac6690",
   "outputs": [],
   "execution_count": 24
  },
  {
   "metadata": {
    "ExecuteTime": {
     "end_time": "2024-10-23T08:09:51.420697Z",
     "start_time": "2024-10-23T08:09:32.846903Z"
    }
   },
   "cell_type": "code",
   "source": [
    "reposne = await get_response('What is revenue of Tesla?')\n",
    "print(reposne)"
   ],
   "id": "fe3c92eaa0e3c242",
   "outputs": [
    {
     "name": "stdout",
     "output_type": "stream",
     "text": [
      "Generated queries:\n",
      "1. Tesla annual revenue 2023\n",
      "2. Tesla quarterly earnings report\n",
      "3. Tesla financial performance analysis\n",
      "Tesla recognized total revenues of $96.77 billion in 2023.\n"
     ]
    }
   ],
   "execution_count": 26
  },
  {
   "metadata": {
    "ExecuteTime": {
     "end_time": "2024-10-23T08:11:17.808038Z",
     "start_time": "2024-10-23T08:11:14.873247Z"
    }
   },
   "cell_type": "code",
   "source": [
    "reposne = await get_response('What is Automotive sales in 2023')\n",
    "print(reposne)"
   ],
   "id": "777f600ae8a40efb",
   "outputs": [
    {
     "name": "stdout",
     "output_type": "stream",
     "text": [
      "Generated queries:\n",
      "1. Automotive sales statistics for 2023\n",
      "2. Trends in car sales for 2023\n",
      "3. Global automotive market performance in 2023\n",
      "Automotive sales in 2023 were $78,509 million.\n"
     ]
    }
   ],
   "execution_count": 27
  },
  {
   "metadata": {
    "ExecuteTime": {
     "end_time": "2024-10-23T08:12:32.702870Z",
     "start_time": "2024-10-23T08:12:29.581291Z"
    }
   },
   "cell_type": "code",
   "source": [
    "reposne = await get_response('What is challenge for Tesla?')\n",
    "print(reposne)"
   ],
   "id": "8d46ad66fd3bf25e",
   "outputs": [
    {
     "name": "stdout",
     "output_type": "stream",
     "text": [
      "Generated queries:\n",
      "1. What are the main challenges faced by Tesla in 2023?\n",
      "2. How is Tesla addressing production and supply chain issues?\n",
      "3. What are the financial challenges impacting Tesla's growth?\n",
      "Tesla faces several challenges, including the need to ramp up efficient and cost-effective manufacturing capabilities, manage supply chain complexities, and address potential delays in production and regulatory approvals. Additionally, they must ensure responsible sourcing of materials, maintain high safety standards, and manage risks associated with product recalls and warranty claims. Labor union activities and global component shortages, such as the semiconductor shortage, also pose significant challenges.\n"
     ]
    }
   ],
   "execution_count": 28
  },
  {
   "metadata": {
    "ExecuteTime": {
     "end_time": "2024-10-23T08:13:31.760172Z",
     "start_time": "2024-10-23T08:13:13.501749Z"
    }
   },
   "cell_type": "code",
   "source": [
    "reposne = await get_response('What is best sale car in 2023')\n",
    "print(reposne)"
   ],
   "id": "4859bfe196eaf722",
   "outputs": [
    {
     "name": "stdout",
     "output_type": "stream",
     "text": [
      "Generated queries:\n",
      "1. Top-rated cars for sale in 2023\n",
      "2. Best-selling cars of 2023\n",
      "3. Most popular cars to buy in 2023\n",
      "The best sale car in 2023 is the Cybertruck, a full-size electric pickup truck with a stainless steel exterior that combines the utility and strength of a truck with the speed of a sports car.\n"
     ]
    }
   ],
   "execution_count": 29
  },
  {
   "metadata": {
    "ExecuteTime": {
     "end_time": "2024-10-23T08:14:41.339519Z",
     "start_time": "2024-10-23T08:14:35.222612Z"
    }
   },
   "cell_type": "code",
   "source": [
    "reposne = await get_response('Summarize the document')\n",
    "print(reposne)"
   ],
   "id": "ac982ec039e25d0e",
   "outputs": [
    {
     "name": "stdout",
     "output_type": "stream",
     "text": [
      "Generated queries:\n",
      "1. How to effectively summarize a document\n",
      "2. Techniques for summarizing lengthy documents\n",
      "3. Tools for automatic document summarization\n",
      "The document outlines several key areas:\n",
      "\n",
      "1. **Changes in and Disagreements with Accountants**: There are no changes or disagreements with accountants on accounting and financial disclosure.\n",
      "\n",
      "2. **Controls and Procedures**: Management, including the CEO and CFO, evaluated the effectiveness of disclosure controls and procedures, concluding they were effective as of December 31, 2023. They acknowledge that controls can only provide reasonable assurance due to resource constraints and the need for management judgment.\n",
      "\n",
      "3. **Management’s Report on Internal Control over Financial Reporting**: Management is responsible for maintaining adequate internal control over financial reporting.\n",
      "\n",
      "4. **Recent Accounting Pronouncements**: \n",
      "   - **ASU No. 2023-07**: Issued in November 2023, it updates reportable segment disclosure requirements and is effective for annual periods beginning after December 15, 2023, with early adoption permitted.\n",
      "   - **ASU No. 2023-08**: Issued in December 2023, it requires certain crypto assets to be measured at fair value and enhances disclosure requirements. It is effective for annual periods beginning after December 15, 2024, with early adoption permitted.\n",
      "\n",
      "5. **Definitions and Policies**: The document includes definitions related to the Exchange Act, executive officers, and erroneously awarded compensation, among others. It also outlines the company's rights regarding recoupment of compensation and the enforceability of policy provisions.\n",
      "\n",
      "6. **XBRL Taxonomy Extension Documents**: Various Inline XBRL taxonomy extension documents are listed, including definition, label, and presentation linkbase documents.\n"
     ]
    }
   ],
   "execution_count": 30
  },
  {
   "metadata": {},
   "cell_type": "code",
   "outputs": [],
   "execution_count": null,
   "source": "",
   "id": "c253295a19e38286"
  }
 ],
 "metadata": {
  "kernelspec": {
   "display_name": "llm",
   "language": "python",
   "name": "llm"
  },
  "language_info": {
   "codemirror_mode": {
    "name": "ipython",
    "version": 2
   },
   "file_extension": ".py",
   "mimetype": "text/x-python",
   "name": "python",
   "nbconvert_exporter": "python",
   "pygments_lexer": "ipython2",
   "version": "2.7.6"
  }
 },
 "nbformat": 4,
 "nbformat_minor": 5
}
