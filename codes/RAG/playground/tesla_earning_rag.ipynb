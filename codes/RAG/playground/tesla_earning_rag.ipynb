{
 "cells": [
  {
   "cell_type": "code",
   "execution_count": 2,
   "id": "cd60a56fd64d4b13",
   "metadata": {
    "ExecuteTime": {
     "end_time": "2024-10-23T07:47:46.918912Z",
     "start_time": "2024-10-23T07:47:44.929475Z"
    }
   },
   "outputs": [],
   "source": [
    "%load_ext autoreload\n",
    "%autoreload 2\n",
    "from src.utils import *\n",
    "load_llm_config()"
   ]
  },
  {
   "cell_type": "code",
   "execution_count": 3,
   "id": "ab85a3ac029a7b4a",
   "metadata": {
    "ExecuteTime": {
     "end_time": "2024-10-23T07:47:47.013548Z",
     "start_time": "2024-10-23T07:47:46.923064Z"
    }
   },
   "outputs": [],
   "source": [
    "from dotenv import load_dotenv\n",
    "from llama_parse import LlamaParse\n",
    "from llama_index.core import (\n",
    "    VectorStoreIndex,\n",
    "    StorageContext,\n",
    "    load_index_from_storage\n",
    ")\n",
    "from llama_index.core.node_parser import SentenceSplitter\n",
    "from llama_index.core.extractors import (\n",
    "    TitleExtractor, \n",
    "    QuestionsAnsweredExtractor)\n",
    "from llama_index.core.ingestion import IngestionPipeline\n",
    "from llama_index.retrievers.bm25 import BM25Retriever\n",
    "import Stemmer\n",
    "import nest_asyncio\n",
    "nest_asyncio.apply()\n",
    "import asyncio"
   ]
  },
  {
   "cell_type": "code",
   "execution_count": 4,
   "id": "b37721892cfd100d",
   "metadata": {
    "ExecuteTime": {
     "end_time": "2024-10-23T07:55:40.530348Z",
     "start_time": "2024-10-23T07:55:34.667125Z"
    }
   },
   "outputs": [
    {
     "name": "stdout",
     "output_type": "stream",
     "text": [
      "Started parsing the file under job_id 5381e174-900e-4e4f-b40d-2a82c7b73e6d\n",
      "."
     ]
    }
   ],
   "source": [
    "# load document\n",
    "load_dotenv()\n",
    "pdf_path = '../data/tesla.pdf'\n",
    "parser = LlamaParse(\n",
    "    api_key = os.getenv('LLAMA_CLOUD_API_KEY'),\n",
    "    show_progress = True,\n",
    "    n_workers = 8\n",
    ")\n",
    "documents = await parser.aload_data(pdf_path)"
   ]
  },
  {
   "cell_type": "markdown",
   "id": "788e8a75b6fdf261",
   "metadata": {},
   "source": [
    "# Indexing"
   ]
  },
  {
   "cell_type": "code",
   "execution_count": 5,
   "id": "51cd2ceae8a119a",
   "metadata": {
    "ExecuteTime": {
     "end_time": "2024-10-23T07:55:55.524868Z",
     "start_time": "2024-10-23T07:55:53.008487Z"
    }
   },
   "outputs": [
    {
     "name": "stderr",
     "output_type": "stream",
     "text": [
      "WARNING:root:Removing unpickleable private attribute _chunking_tokenizer_fn\n",
      "WARNING:root:Removing unpickleable private attribute _split_fns\n",
      "WARNING:root:Removing unpickleable private attribute _sub_sentence_split_fns\n",
      "WARNING:root:Removing unpickleable private attribute _chunking_tokenizer_fn\n",
      "WARNING:root:Removing unpickleable private attribute _split_fns\n",
      "WARNING:root:Removing unpickleable private attribute _sub_sentence_split_fns\n",
      "WARNING:root:Removing unpickleable private attribute _chunking_tokenizer_fn\n",
      "WARNING:root:Removing unpickleable private attribute _split_fns\n",
      "WARNING:root:Removing unpickleable private attribute _sub_sentence_split_fns\n",
      "WARNING:root:Removing unpickleable private attribute _chunking_tokenizer_fn\n",
      "WARNING:root:Removing unpickleable private attribute _split_fns\n",
      "WARNING:root:Removing unpickleable private attribute _sub_sentence_split_fns\n",
      "WARNING:root:Removing unpickleable private attribute _chunking_tokenizer_fn\n",
      "WARNING:root:Removing unpickleable private attribute _split_fns\n",
      "WARNING:root:Removing unpickleable private attribute _sub_sentence_split_fns\n",
      "WARNING:root:Removing unpickleable private attribute _chunking_tokenizer_fn\n",
      "WARNING:root:Removing unpickleable private attribute _split_fns\n",
      "WARNING:root:Removing unpickleable private attribute _sub_sentence_split_fns\n",
      "WARNING:root:Removing unpickleable private attribute _chunking_tokenizer_fn\n",
      "WARNING:root:Removing unpickleable private attribute _split_fns\n",
      "WARNING:root:Removing unpickleable private attribute _sub_sentence_split_fns\n",
      "WARNING:root:Removing unpickleable private attribute _chunking_tokenizer_fn\n",
      "WARNING:root:Removing unpickleable private attribute _split_fns\n",
      "WARNING:root:Removing unpickleable private attribute _sub_sentence_split_fns\n",
      "WARNING:root:Removing unpickleable private attribute _chunking_tokenizer_fn\n",
      "WARNING:root:Removing unpickleable private attribute _split_fns\n",
      "WARNING:root:Removing unpickleable private attribute _sub_sentence_split_fns\n"
     ]
    }
   ],
   "source": [
    "\n",
    "pipeline = IngestionPipeline(\n",
    "    transformations=[\n",
    "        SentenceSplitter(chunk_size=512, chunk_overlap=20),\n",
    "    ]\n",
    ")\n",
    "nodes = pipeline.run(documents=documents, num_workers=8)"
   ]
  },
  {
   "cell_type": "code",
   "execution_count": 8,
   "id": "2a6544e9c12db413",
   "metadata": {
    "ExecuteTime": {
     "end_time": "2024-10-23T07:36:09.897155Z",
     "start_time": "2024-10-23T07:35:05.469257Z"
    }
   },
   "outputs": [],
   "source": [
    "index = VectorStoreIndex(nodes=nodes)\n",
    "index.storage_context.persist(persist_dir='../data/index_storage')"
   ]
  },
  {
   "cell_type": "code",
   "execution_count": 9,
   "id": "a5cc5a61d78420df",
   "metadata": {
    "ExecuteTime": {
     "end_time": "2024-10-23T07:47:54.928541Z",
     "start_time": "2024-10-23T07:47:50.518577Z"
    }
   },
   "outputs": [],
   "source": [
    "# load\n",
    "storage_context = StorageContext.from_defaults(persist_dir='../data/index_storage')\n",
    "index = load_index_from_storage(storage_context)"
   ]
  },
  {
   "cell_type": "markdown",
   "id": "bbb19a32c97d04b4",
   "metadata": {},
   "source": [
    "# Retrieval"
   ]
  },
  {
   "cell_type": "code",
   "execution_count": 10,
   "id": "b849fe08032b2d8f",
   "metadata": {
    "ExecuteTime": {
     "end_time": "2024-10-23T07:48:36.469038Z",
     "start_time": "2024-10-23T07:48:36.375254Z"
    }
   },
   "outputs": [
    {
     "name": "stderr",
     "output_type": "stream",
     "text": [
      "DEBUG:bm25s:Building index from IDs objects\n"
     ]
    },
    {
     "data": {
      "application/vnd.jupyter.widget-view+json": {
       "model_id": "10322d25052843cc83c1f637a1686161",
       "version_major": 2,
       "version_minor": 0
      },
      "text/plain": [
       "Finding newlines for mmindex:   0%|          | 0.00/1.47M [00:00<?, ?B/s]"
      ]
     },
     "metadata": {},
     "output_type": "display_data"
    }
   ],
   "source": [
    "bm25_retriever = BM25Retriever.from_defaults(\n",
    "    docstore = index.docstore,\n",
    "    similarity_top_k = 10,\n",
    "    stemmer = Stemmer.Stemmer('english'),\n",
    "    language = 'en'\n",
    ")\n",
    "bm25_retriever.persist('../data/bm25_retriever')"
   ]
  },
  {
   "cell_type": "markdown",
   "id": "8bdc409a4beab465",
   "metadata": {},
   "source": [
    "## Create retriever engine"
   ]
  },
  {
   "cell_type": "code",
   "execution_count": 11,
   "id": "242b7709e5281b80",
   "metadata": {
    "ExecuteTime": {
     "end_time": "2024-10-23T07:54:29.540709Z",
     "start_time": "2024-10-23T07:54:29.512252Z"
    }
   },
   "outputs": [],
   "source": [
    "from llama_index.core.retrievers import VectorIndexRetriever, QueryFusionRetriever\n",
    "from llama_index.core.query_engine import TransformQueryEngine, RetrieverQueryEngine"
   ]
  },
  {
   "cell_type": "code",
   "execution_count": 12,
   "id": "89653512746beeba",
   "metadata": {
    "ExecuteTime": {
     "end_time": "2024-10-23T07:56:12.603614Z",
     "start_time": "2024-10-23T07:56:12.577165Z"
    }
   },
   "outputs": [],
   "source": [
    "index_retriever = VectorIndexRetriever(\n",
    "    index = index,\n",
    "    nodes = nodes,\n",
    "    similarity_top_k=10\n",
    ")"
   ]
  },
  {
   "cell_type": "code",
   "execution_count": 13,
   "id": "ebed7dc2c64c7182",
   "metadata": {
    "ExecuteTime": {
     "end_time": "2024-10-23T07:58:35.207831Z",
     "start_time": "2024-10-23T07:58:35.178765Z"
    }
   },
   "outputs": [],
   "source": [
    "hybrid_retriever = QueryFusionRetriever(\n",
    "    retrievers = [bm25_retriever, index_retriever],\n",
    "    similarity_top_k=5,\n",
    "    num_queries=3,\n",
    "    use_async=True,\n",
    "    verbose=True\n",
    ")\n"
   ]
  },
  {
   "cell_type": "code",
   "execution_count": 14,
   "id": "d75e95a636ac6690",
   "metadata": {
    "ExecuteTime": {
     "end_time": "2024-10-23T08:08:46.698266Z",
     "start_time": "2024-10-23T08:08:46.666089Z"
    }
   },
   "outputs": [],
   "source": [
    "async def get_response(query):\n",
    "    response = await hybrid_retriever_engine.aquery(query)\n",
    "    return response \n",
    "\n",
    "hybrid_retriever_engine = RetrieverQueryEngine.from_args(hybrid_retriever)"
   ]
  },
  {
   "cell_type": "code",
   "execution_count": 15,
   "id": "fe3c92eaa0e3c242",
   "metadata": {
    "ExecuteTime": {
     "end_time": "2024-10-23T08:09:51.420697Z",
     "start_time": "2024-10-23T08:09:32.846903Z"
    }
   },
   "outputs": [
    {
     "name": "stdout",
     "output_type": "stream",
     "text": [
      "Generated queries:\n",
      "Tesla annual revenue 2023\n",
      "Tesla quarterly earnings report\n",
      "The revenue of Tesla is not provided in the given information.\n"
     ]
    }
   ],
   "source": [
    "reposne = await get_response('What is revenue of Tesla?')\n",
    "print(reposne)"
   ]
  },
  {
   "cell_type": "code",
   "execution_count": 16,
   "id": "777f600ae8a40efb",
   "metadata": {
    "ExecuteTime": {
     "end_time": "2024-10-23T08:11:17.808038Z",
     "start_time": "2024-10-23T08:11:14.873247Z"
    }
   },
   "outputs": [
    {
     "name": "stdout",
     "output_type": "stream",
     "text": [
      "Generated queries:\n",
      "Automotive industry sales statistics for 2023\n",
      "Current trends in automotive sales for 2023\n",
      "Automotive sales in 2023 were $78.509 billion.\n"
     ]
    }
   ],
   "source": [
    "reposne = await get_response('What is Automotive sales in 2023')\n",
    "print(reposne)"
   ]
  },
  {
   "cell_type": "code",
   "execution_count": 17,
   "id": "8d46ad66fd3bf25e",
   "metadata": {
    "ExecuteTime": {
     "end_time": "2024-10-23T08:12:32.702870Z",
     "start_time": "2024-10-23T08:12:29.581291Z"
    }
   },
   "outputs": [
    {
     "name": "stdout",
     "output_type": "stream",
     "text": [
      "Generated queries:\n",
      "Challenges faced by Tesla in the automotive industry\n",
      "Current obstacles and issues for Tesla in 2023\n",
      "Tesla faces several challenges, including increased volatility as they expand and adjust operations, competition in the sustainable transportation market, potential impacts on supplier liquidity and allocation plans, changes in government and economic incentives for electric vehicles, and the need to maintain efficient delivery and servicing capabilities as production volumes grow. Additionally, they are dealing with legal issues related to allegations of systemic race discrimination and hostile work environment, as well as increased scrutiny and changing expectations regarding their environmental, social, and governance (ESG) practices.\n"
     ]
    }
   ],
   "source": [
    "reposne = await get_response('What is challenge for Tesla?')\n",
    "print(reposne)"
   ]
  },
  {
   "cell_type": "code",
   "execution_count": 18,
   "id": "4859bfe196eaf722",
   "metadata": {
    "ExecuteTime": {
     "end_time": "2024-10-23T08:13:31.760172Z",
     "start_time": "2024-10-23T08:13:13.501749Z"
    }
   },
   "outputs": [
    {
     "name": "stdout",
     "output_type": "stream",
     "text": [
      "Generated queries:\n",
      "Best cars to buy in 2023\n",
      "Top car deals and discounts in 2023\n",
      "The information provided does not specify which car was the best-selling in 2023.\n"
     ]
    }
   ],
   "source": [
    "reposne = await get_response('What is best sale car in 2023')\n",
    "print(reposne)"
   ]
  },
  {
   "cell_type": "code",
   "execution_count": 19,
   "id": "ac982ec039e25d0e",
   "metadata": {
    "ExecuteTime": {
     "end_time": "2024-10-23T08:14:41.339519Z",
     "start_time": "2024-10-23T08:14:35.222612Z"
    }
   },
   "outputs": [
    {
     "name": "stdout",
     "output_type": "stream",
     "text": [
      "Generated queries:\n",
      "Summarize the key points of the document\n",
      "Provide a brief overview of the document's content\n",
      "The document outlines various aspects of a company's operations and policies. It defines key terms such as the effective date and erroneously awarded compensation. The company designs, manufactures, sells, and leases electric vehicles and energy systems, emphasizing performance, safety, and cost reduction. It operates in two segments: automotive and energy generation and storage. The document also includes details about warranties, performance guarantees, and certifications related to financial reporting and compliance. Additionally, it lists various exhibits and agreements, including a credit agreement and a clawback policy.\n"
     ]
    }
   ],
   "source": [
    "reposne = await get_response('Summarize the document')\n",
    "print(reposne)"
   ]
  }
 ],
 "metadata": {
  "kernelspec": {
   "display_name": "llm",
   "language": "python",
   "name": "python3"
  },
  "language_info": {
   "codemirror_mode": {
    "name": "ipython",
    "version": 3
   },
   "file_extension": ".py",
   "mimetype": "text/x-python",
   "name": "python",
   "nbconvert_exporter": "python",
   "pygments_lexer": "ipython3",
   "version": "3.10.15"
  }
 },
 "nbformat": 4,
 "nbformat_minor": 5
}
