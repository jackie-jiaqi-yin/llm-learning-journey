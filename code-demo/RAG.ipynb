{
 "cells": [
  {
   "metadata": {},
   "cell_type": "markdown",
   "source": [
    "In this notebook, I will demo how to use `LlamaIndex` to generata a RAG from a given document. At the meanwhile, I will explore the package from my own curiosity. \n",
    "\n",
    "Pre-requisite:\n",
    "- Install the package `pip install llama-index`"
   ],
   "id": "ee7092c34bff4237"
  },
  {
   "metadata": {},
   "cell_type": "code",
   "source": [
    "from llama_index.core import SimpleDirectoryReader\n",
    "from llama_index.readers.file import FlatReader, MarkdownReader\n",
    "from llama_index.core.node_parser import MarkdownNodeParser\n",
    "from pathlib import Path\n",
    "\n",
    "from mistune import markdown"
   ],
   "id": "d028cfd20bd522b",
   "outputs": [],
   "execution_count": null
  },
  {
   "metadata": {},
   "cell_type": "markdown",
   "source": [
    "## load the document\n",
    "- case 1: load by `SimpleDirectoryReader`\n",
    "- case 3: load by `FlatReader`"
   ],
   "id": "1c8450c28605f5b2"
  },
  {
   "metadata": {},
   "cell_type": "code",
   "source": [
    "import os\n",
    "print(os.getcwd())"
   ],
   "id": "5efed61c653d717b",
   "outputs": [],
   "execution_count": null
  },
  {
   "metadata": {
    "ExecuteTime": {
     "end_time": "2024-09-20T23:45:14.588184Z",
     "start_time": "2024-09-20T23:45:14.566865Z"
    }
   },
   "cell_type": "code",
   "source": [
    "simple_reader_docs = SimpleDirectoryReader(\n",
    "    input_files = ['data/summary.md']\n",
    ").load_data()\n",
    "\n",
    "markdown_reader_docs = MarkdownReader().load_data(Path('data/summary.md'))\n",
    "\n",
    "flat_reader_docs = FlatReader().load_data(Path('data/summary.md'))\n",
    "\n",
    "print('the length of simple_reader_docs:', len(simple_reader_docs))\n",
    "print('the length of flat_reader_docs:', len(flat_reader_docs))\n",
    "print('the length of markdown_reader_docs:', len(markdown_reader_docs))\n",
    "\n",
    "\n",
    "print('the first doc of simple_reader_docs:', simple_reader_docs[0])\n",
    "print('the first doc of flat_reader_docs:', flat_reader_docs[0])\n",
    "print('the first doc of markdown_reader_docs:', simple_reader_docs[0])"
   ],
   "id": "8a0ab5701eaddc51",
   "outputs": [
    {
     "name": "stdout",
     "output_type": "stream",
     "text": [
      "the length of simple_reader_docs: 7\n",
      "the length of flat_reader_docs: 1\n",
      "the length of markdown_reader_docs: 7\n",
      "the first doc of simple_reader_docs: Doc ID: 4809984c-c771-4415-9200-33c6f0a58846\n",
      "Text: Introducing Our Comprehensive Forecasting Service    Welcome to\n",
      "our state-of-the-art forecasting service, designed to transform your\n",
      "historical data into reliable future predictions. Our service is\n",
      "tailored to handle various data types, including daily, intraday, and\n",
      "special datasets, ensuring that your forecasting needs are met with\n",
      "precision a...\n",
      "the first doc of flat_reader_docs: Doc ID: 90cf5042-b42c-4b1b-8573-020ac28c68d5\n",
      "Text: Introducing Our Comprehensive Forecasting Service  Welcome to\n",
      "our state-of-the-art forecasting service, designed to transform your\n",
      "historical data into reliable future predictions. Our service is\n",
      "tailored to handle various data types, including daily, intraday, and\n",
      "special datasets, ensuring that your forecasting needs are met with\n",
      "precision and...\n",
      "the first doc of markdown_reader_docs: Doc ID: 4809984c-c771-4415-9200-33c6f0a58846\n",
      "Text: Introducing Our Comprehensive Forecasting Service    Welcome to\n",
      "our state-of-the-art forecasting service, designed to transform your\n",
      "historical data into reliable future predictions. Our service is\n",
      "tailored to handle various data types, including daily, intraday, and\n",
      "special datasets, ensuring that your forecasting needs are met with\n",
      "precision a...\n"
     ]
    }
   ],
   "execution_count": 26
  },
  {
   "metadata": {},
   "cell_type": "markdown",
   "source": "`SimpleDirectoryReader` and `MarkdownReader` split the document by the Markdown header. `FlatReader` does not split the document.",
   "id": "c874ba38f1711d64"
  },
  {
   "metadata": {},
   "cell_type": "markdown",
   "source": "",
   "id": "59906f84fc213ab1"
  },
  {
   "metadata": {},
   "cell_type": "markdown",
   "source": "# Parser",
   "id": "d5d662286059a24b"
  },
  {
   "metadata": {
    "ExecuteTime": {
     "end_time": "2024-09-21T00:10:43.305560Z",
     "start_time": "2024-09-21T00:10:43.297450Z"
    }
   },
   "cell_type": "code",
   "source": [
    "md_nodes = MarkdownNodeParser().get_nodes_from_documents(simple_reader_docs)\n",
    "print('the length of md_nodes:', len(md_nodes))\n",
    "md_nodes[2]"
   ],
   "id": "d269c95e5aca58fa",
   "outputs": [
    {
     "name": "stdout",
     "output_type": "stream",
     "text": [
      "the length of md_nodes: 7\n"
     ]
    },
    {
     "data": {
      "text/plain": [
       "TextNode(id_='4a04e4f5-cddd-4afe-a003-054695e8132a', embedding=None, metadata={'file_path': 'data\\\\summary.md', 'file_name': 'summary.md', 'file_size': 3007, 'creation_date': '2024-09-20', 'last_modified_date': '2024-09-19'}, excluded_embed_metadata_keys=['file_name', 'file_type', 'file_size', 'creation_date', 'last_modified_date', 'last_accessed_date'], excluded_llm_metadata_keys=['file_name', 'file_type', 'file_size', 'creation_date', 'last_modified_date', 'last_accessed_date'], relationships={<NodeRelationship.SOURCE: '1'>: RelatedNodeInfo(node_id='e6849d57-0165-4559-bc5d-7ffe9fb5e1d6', node_type=<ObjectType.DOCUMENT: '4'>, metadata={'file_path': 'data\\\\summary.md', 'file_name': 'summary.md', 'file_size': 3007, 'creation_date': '2024-09-20', 'last_modified_date': '2024-09-19'}, hash='07201353024e9e46a046c365993322061e5e1dc6695cdfbaa9ed7dd0c6324138')}, text='Required Input Data for Forecasting\\nOur service requires historical data with dates and values. Here are some examples of the data types we handle:\\r\\n\\r\\n- **Daily Data**: Regular daily entries, such as sales figures or website traffic.\\r\\n- **Intraday Data**: High-frequency data collected within a day, like hourly energy consumption.\\r\\n- **Special Data**: Includes holidays or events that might impact the data.\\r\\n- **Adjust Data**: Data requiring specific adjustments, such as seasonal or holiday effects.', mimetype='text/plain', start_char_idx=2, end_char_idx=504, text_template='{metadata_str}\\n\\n{content}', metadata_template='{key}: {value}', metadata_seperator='\\n')"
      ]
     },
     "execution_count": 36,
     "metadata": {},
     "output_type": "execute_result"
    }
   ],
   "execution_count": 36
  },
  {
   "metadata": {
    "ExecuteTime": {
     "end_time": "2024-09-21T00:11:21.792779Z",
     "start_time": "2024-09-21T00:11:21.772359Z"
    }
   },
   "cell_type": "code",
   "source": [
    "md_nodes = MarkdownNodeParser().get_nodes_from_documents(flat_reader_docs)\n",
    "print('the length of md_nodes:', len(md_nodes))\n",
    "md_nodes[2]"
   ],
   "id": "1ec76ea8d49123a3",
   "outputs": [
    {
     "name": "stdout",
     "output_type": "stream",
     "text": [
      "the length of md_nodes: 7\n"
     ]
    },
    {
     "data": {
      "text/plain": [
       "TextNode(id_='d03b0ab9-3459-4196-9fed-2db452ea4bfc', embedding=None, metadata={'filename': 'summary.md', 'extension': '.md', 'Header_3': 'Key Features', 'Header_4': 'Required Input Data for Forecasting'}, excluded_embed_metadata_keys=[], excluded_llm_metadata_keys=[], relationships={<NodeRelationship.SOURCE: '1'>: RelatedNodeInfo(node_id='90cf5042-b42c-4b1b-8573-020ac28c68d5', node_type=<ObjectType.DOCUMENT: '4'>, metadata={'filename': 'summary.md', 'extension': '.md'}, hash='1f5c3c74c7685dc67c55633c62961c193d29c51bb3fc6eee5b421fde929ad2f1'), <NodeRelationship.PREVIOUS: '2'>: RelatedNodeInfo(node_id='a3c40651-3a67-4f3f-ab07-32ae107c694c', node_type=<ObjectType.TEXT: '1'>, metadata={'filename': 'summary.md', 'extension': '.md', 'Header_3': 'Key Features'}, hash='e4bd94c390dfa75acc83eab7aa86b4b2ba0d09b2fb01726692f17400f17ab0e5'), <NodeRelationship.NEXT: '3'>: RelatedNodeInfo(node_id='e350f2da-8a57-4749-89ba-1a1705b900f3', node_type=<ObjectType.TEXT: '1'>, metadata={'Header_3': 'Key Features', 'Header_4': 'Data Preprocessing Steps'}, hash='fafe519dd4c0decc86528bdeb5e302cab0b0be25c7c797216705f4175aac83b2')}, text='Required Input Data for Forecasting\\nOur service requires historical data with dates and values. Here are some examples of the data types we handle:\\n\\n- **Daily Data**: Regular daily entries, such as sales figures or website traffic.\\n- **Intraday Data**: High-frequency data collected within a day, like hourly energy consumption.\\n- **Special Data**: Includes holidays or events that might impact the data.\\n- **Adjust Data**: Data requiring specific adjustments, such as seasonal or holiday effects.', mimetype='text/plain', start_char_idx=385, end_char_idx=882, text_template='{metadata_str}\\n\\n{content}', metadata_template='{key}: {value}', metadata_seperator='\\n')"
      ]
     },
     "execution_count": 37,
     "metadata": {},
     "output_type": "execute_result"
    }
   ],
   "execution_count": 37
  },
  {
   "metadata": {
    "ExecuteTime": {
     "end_time": "2024-09-20T23:47:39.925173Z",
     "start_time": "2024-09-20T23:47:39.919648Z"
    }
   },
   "cell_type": "code",
   "source": [
    "md_nodes = MarkdownNodeParser().get_nodes_from_documents(markdown_reader_docs)\n",
    "print('the length of md_nodes:', len(md_nodes))\n",
    "md_nodes[0]"
   ],
   "id": "b3d9c16ad93bd66f",
   "outputs": [
    {
     "name": "stdout",
     "output_type": "stream",
     "text": [
      "the length of md_nodes: 7\n"
     ]
    },
    {
     "data": {
      "text/plain": [
       "TextNode(id_='5a9cc8ab-d443-471c-93b7-1719f9183f5c', embedding=None, metadata={}, excluded_embed_metadata_keys=[], excluded_llm_metadata_keys=[], relationships={<NodeRelationship.SOURCE: '1'>: RelatedNodeInfo(node_id='47836f64-a8df-4741-9526-eedb61d97ffe', node_type=<ObjectType.DOCUMENT: '4'>, metadata={}, hash='d1748259d999b3209eea05a842f23f5e9e7fda530fa3a26aed5bf29518baa7ec')}, text='Introducing Our Comprehensive Forecasting Service\\r\\n\\r\\nWelcome to our state-of-the-art forecasting service, designed to transform your historical data into reliable future predictions. Our service is tailored to handle various data types, including daily, intraday, and special datasets, ensuring that your forecasting needs are met with precision and flexibility.', mimetype='text/plain', start_char_idx=0, end_char_idx=362, text_template='{metadata_str}\\n\\n{content}', metadata_template='{key}: {value}', metadata_seperator='\\n')"
      ]
     },
     "execution_count": 29,
     "metadata": {},
     "output_type": "execute_result"
    }
   ],
   "execution_count": 29
  },
  {
   "metadata": {},
   "cell_type": "markdown",
   "source": [
    "If documents are loaded from `FlatReader` and parser by `MarkdownNodeParser`, the Markdown header will be parsed in the metadata. When I looked into source code\n",
    "```python\n",
    "def get_nodes_from_node(self, node: BaseNode) -> List[TextNode]:\n",
    "    \"\"\"Get nodes from document.\"\"\"\n",
    "    text = node.get_content(metadata_mode=MetadataMode.NONE)\n",
    "    markdown_nodes = []\n",
    "    lines = text.split(\"\\n\")\n",
    "    metadata: Dict[str, str] = {}\n",
    "    code_block = False\n",
    "    current_section = \"\"\n",
    "\n",
    "    for line in lines:\n",
    "        if line.lstrip().startswith(\"```\"):\n",
    "            code_block = not code_block\n",
    "        header_match = re.match(r\"^(#+)\\s(.*)\", line)\n",
    "        if header_match and not code_block:\n",
    "            if current_section != \"\":\n",
    "                markdown_nodes.append(\n",
    "                    self._build_node_from_split(\n",
    "                        current_section.strip(), node, metadata\n",
    "                    )\n",
    "                )\n",
    "            metadata = self._update_metadata(\n",
    "                metadata, header_match.group(2), len(header_match.group(1).strip())\n",
    "            )\n",
    "            current_section = f\"{header_match.group(2)}\\n\"\n",
    "        else:\n",
    "            current_section += line + \"\\n\"\n",
    "\n",
    "    markdown_nodes.append(\n",
    "        self._build_node_from_split(current_section.strip(), node, metadata)\n",
    "    )\n",
    "\n",
    "    return markdown_nodes\n",
    "```\n",
    "It shows that if the reader has not split the document by the Markdown header, the parser will split the document by the Markdown header, and save the header in the metadata and main the structure of the document in the content.\n",
    "My markdown file is well structured, so I will use `FlatReader` to load the document and `MarkdownNodeParser` to parse the document to keep the structure of the document.\n"
   ],
   "id": "42a28c642b5dbd55"
  },
  {
   "metadata": {
    "ExecuteTime": {
     "end_time": "2024-09-21T00:25:04.155733Z",
     "start_time": "2024-09-21T00:25:04.151184Z"
    }
   },
   "cell_type": "code",
   "source": "md_nodes = MarkdownNodeParser().get_nodes_from_documents(flat_reader_docs)",
   "id": "15c3fd82fda31a35",
   "outputs": [],
   "execution_count": 41
  },
  {
   "metadata": {},
   "cell_type": "code",
   "source": "",
   "id": "dac60db119fc5d14",
   "outputs": [],
   "execution_count": null
  }
 ],
 "metadata": {
  "kernelspec": {
   "display_name": "Python 3",
   "language": "python",
   "name": "python3"
  },
  "language_info": {
   "codemirror_mode": {
    "name": "ipython",
    "version": 2
   },
   "file_extension": ".py",
   "mimetype": "text/x-python",
   "name": "python",
   "nbconvert_exporter": "python",
   "pygments_lexer": "ipython2",
   "version": "2.7.6"
  }
 },
 "nbformat": 4,
 "nbformat_minor": 5
}
