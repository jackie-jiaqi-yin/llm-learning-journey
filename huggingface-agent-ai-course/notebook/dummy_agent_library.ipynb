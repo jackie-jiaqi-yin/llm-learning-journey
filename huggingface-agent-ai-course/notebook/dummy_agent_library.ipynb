{
 "cells": [
  {
   "cell_type": "code",
   "execution_count": 17,
   "metadata": {},
   "outputs": [],
   "source": [
    "from ollama import Client, chat"
   ]
  },
  {
   "cell_type": "markdown",
   "metadata": {},
   "source": [
    "# Dummy Agent Library\n",
    "\n",
    "## Set up llm client\n",
    "For demo purposes, I am using the open source `ollama` to run the model locally."
   ]
  },
  {
   "cell_type": "code",
   "execution_count": 18,
   "metadata": {},
   "outputs": [],
   "source": [
    "client = Client()"
   ]
  },
  {
   "cell_type": "code",
   "execution_count": 19,
   "metadata": {},
   "outputs": [
    {
     "name": "stdout",
     "output_type": "stream",
     "text": [
      "Paris.\n"
     ]
    }
   ],
   "source": [
    "output = client.generate(\n",
    "    model='llama3.2:3b',\n",
    "    prompt=\"The capital of France is\",\n",
    "    options={\n",
    "        'num_tokens': 100\n",
    "    }\n",
    ")\n",
    "\n",
    "print(output.response)"
   ]
  },
  {
   "cell_type": "markdown",
   "metadata": {},
   "source": [
    "Chat method"
   ]
  },
  {
   "cell_type": "code",
   "execution_count": 23,
   "metadata": {},
   "outputs": [
    {
     "name": "stdout",
     "output_type": "stream",
     "text": [
      "Paris.\n"
     ]
    }
   ],
   "source": [
    "output = chat(\n",
    "    model='llama3.2:3b',\n",
    "    messages=[{\n",
    "        'role': 'user',\n",
    "        'content': 'The capital of France is'\n",
    "    }],\n",
    "    options={\n",
    "        'num_tokens': 100\n",
    "    }\n",
    ")\n",
    "\n",
    "print(output.message.content)"
   ]
  }
 ],
 "metadata": {
  "kernelspec": {
   "display_name": "llm",
   "language": "python",
   "name": "python3"
  },
  "language_info": {
   "codemirror_mode": {
    "name": "ipython",
    "version": 3
   },
   "file_extension": ".py",
   "mimetype": "text/x-python",
   "name": "python",
   "nbconvert_exporter": "python",
   "pygments_lexer": "ipython3",
   "version": "3.10.15"
  }
 },
 "nbformat": 4,
 "nbformat_minor": 2
}
