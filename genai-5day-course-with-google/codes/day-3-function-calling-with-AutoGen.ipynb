{
 "cells": [
  {
   "cell_type": "markdown",
   "metadata": {},
   "source": [
    "# AutoGen Function Calling\n",
    "\n",
    "This tutorial will redo the day-3-function-calling-with-llamaIndex.ipynb tutorial using AutoGen.\n",
    "\n",
    "The tutorial demonstrates how to use AutoGen to create agents that translate natural language queries into SQL. We'll focus on:\n",
    "\n",
    "1. Designing effective agents for SQL translation\n",
    "2. Setting up proper agent interactions\n",
    "3. Using function calling to execute database operations\n",
    "4. Creating natural conversations about data\n",
    "\n",
    "First install the autogen-agentchat package.\n",
    "```\n",
    "%pip install autogen-agentchat~=0.2\n",
    "```"
   ]
  },
  {
   "cell_type": "markdown",
   "metadata": {},
   "source": [
    "## Basic Setup\n",
    "\n",
    "First, set up the llm connection and sql connection."
   ]
  },
  {
   "cell_type": "code",
   "execution_count": 1,
   "metadata": {},
   "outputs": [],
   "source": [
    "import os\n",
    "from dotenv import load_dotenv\n",
    "import sqlite3\n",
    "\n",
    "load_dotenv()\n",
    "\n",
    "llm_list = [\n",
    "    {\n",
    "        \"model\": \"gpt-4o\",\n",
    "        \"api_key\": os.getenv(\"AZURE_OPENAI_KEY\"),\n",
    "        \"api_version\": os.getenv(\"OPENAI_API_VERSION\"),\n",
    "        \"base_url\": os.getenv(\"AZURE_OPENAI_ENDPOINT\"),\n",
    "    }\n",
    "]\n",
    "\n",
    "llm_config = {\n",
    "    \"temperature\": 0.7,\n",
    "    \"config_list\": llm_list,\n",
    "    \"timeout\": 60,\n",
    "}\n",
    "\n",
    "# set up the sql connection\n",
    "db_file = \"sample.db\"\n",
    "db_conn = sqlite3.connect(db_file)"
   ]
  },
  {
   "cell_type": "code",
   "execution_count": null,
   "metadata": {},
   "outputs": [],
   "source": []
  }
 ],
 "metadata": {
  "kernelspec": {
   "display_name": "llm",
   "language": "python",
   "name": "python3"
  },
  "language_info": {
   "codemirror_mode": {
    "name": "ipython",
    "version": 3
   },
   "file_extension": ".py",
   "mimetype": "text/x-python",
   "name": "python",
   "nbconvert_exporter": "python",
   "pygments_lexer": "ipython3",
   "version": "3.10.15"
  }
 },
 "nbformat": 4,
 "nbformat_minor": 2
}
