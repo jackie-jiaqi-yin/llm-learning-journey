{
 "cells": [
  {
   "cell_type": "markdown",
   "metadata": {},
   "source": [
    "# Day 3 - Function Calling with LlamaIndex and Azure OpenAI\n",
    "\n",
    "Welcome to this tutorial on function calling with LlamaIndex and Azure OpenAI! This notebook demonstrates how to use LlamaIndex's function calling capabilities to build a chat interface over a local database.\n",
    "\n",
    "## Overview\n",
    "\n",
    "Function calling allows language models to interact with external tools and APIs in a structured way. When you define functions that the model can use, it can:\n",
    "\n",
    "1. Understand when a function needs to be called\n",
    "2. Format the arguments correctly\n",
    "3. Use the function's return value to provide informative responses\n",
    "\n",
    "In this tutorial, you'll create a system that can:\n",
    "\n",
    "- Query a local SQLite database\n",
    "- Parse natural language questions into SQL queries\n",
    "- Return formatted responses that combine database results with natural language\n",
    "\n",
    "## Understanding Function Calling\n",
    "\n",
    "When working with Large Language Models (LLMs) like Azure OpenAI, there are two main approaches to implementing function calling:\n",
    "\n",
    "### 1. Schema Definition Approach\n",
    "\n",
    "You can explicitly define the function's interface using a schema that tells the LLM what the function does and how to use it. This is similar to writing an API specification:\n",
    "\n",
    "```python\n",
    "function_schema = {\n",
    "    \"name\": \"list_tables\",\n",
    "    \"description\": \"Retrieve the names of all tables in the database\",\n",
    "    \"parameters\": {\n",
    "        \"type\": \"object\",\n",
    "        \"properties\": {},\n",
    "        \"required\": []\n",
    "    }\n",
    "}\n",
    "```\n",
    "\n",
    "### 2. Auto-inspection Approach\n",
    "\n",
    "Alternatively, you can let the system automatically inspect your Python functions. For this to work, your functions must have:\n",
    "\n",
    "- Type hints for parameters and return values\n",
    "- Detailed docstrings explaining what the function does\n",
    "\n",
    "```python\n",
    "def list_tables() -> list[str]:\n",
    "    \"\"\"Retrieve the names of all tables in the database.\n",
    "  \n",
    "    Returns:\n",
    "        list[str]: A list of table names in the database\n",
    "      \n",
    "    Example:\n",
    "        >>> list_tables()\n",
    "        ['products', 'orders', 'customers']\n",
    "    \"\"\"\n",
    "    cursor = db_conn.cursor()\n",
    "    cursor.execute(\"SELECT name FROM sqlite_master WHERE type='table';\")\n",
    "    return [t[0] for t in cursor.fetchall()]\n",
    "```\n",
    "\n",
    "The LLM never sees the actual code inside the function - it only sees the type hints and docstring. This is why clear documentation is crucial.\n",
    "\n"
   ]
  },
  {
   "cell_type": "markdown",
   "metadata": {},
   "source": [
    "## Setup and Installation\n",
    "\n",
    "First, install the required packages:"
   ]
  },
  {
   "cell_type": "code",
   "execution_count": null,
   "metadata": {},
   "outputs": [],
   "source": [
    "%pip install llama-index llama-index-core llama-index-llms-azure-openai python-dotenv  ipython-sql"
   ]
  },
  {
   "cell_type": "markdown",
   "metadata": {},
   "source": [
    "import the necessary packages:"
   ]
  },
  {
   "cell_type": "code",
   "execution_count": 1,
   "metadata": {},
   "outputs": [],
   "source": [
    "from dotenv import load_dotenv\n",
    "import os\n",
    "from llama_index.llms.azure_openai import AzureOpenAI\n",
    "from llama_index.core import (\n",
    "    VectorStoreIndex, \n",
    "    SimpleDirectoryReader,\n",
    "    SQLDatabase,\n",
    "    Document,\n",
    "    Settings\n",
    "    )\n",
    "from llama_index.core.tools import FunctionTool\n",
    "from llama_index.core.agent import ReActAgent"
   ]
  },
  {
   "cell_type": "markdown",
   "metadata": {},
   "source": [
    "## Configuration\n",
    "\n",
    "Create a `.env` file with your Azure OpenAI credentials:\n",
    "\n",
    "```env\n",
    "AZURE_OPENAI_ENDPOINT=\"YOUR_AZURE_ENDPOINT\"\n",
    "AZURE_OPENAI_KEY=\"YOUR_API_KEY\"\n",
    "OPENAI_API_VERSION=\"Your_API_VERSION\" \n",
    "```"
   ]
  },
  {
   "cell_type": "markdown",
   "metadata": {},
   "source": [
    "Set up the Azure OpenAI connection:"
   ]
  },
  {
   "cell_type": "code",
   "execution_count": 2,
   "metadata": {},
   "outputs": [],
   "source": [
    "load_dotenv()\n",
    "\n",
    "llm = AzureOpenAI(\n",
    "    model=\"gpt-4o\",\n",
    "    engine=\"gpt-4o\",\n",
    "    api_key=os.getenv(\"AZURE_OPENAI_KEY\"),\n",
    "    api_version=os.getenv(\"OPENAI_API_VERSION\"),\n",
    "    endpoint=os.getenv(\"AZURE_OPENAI_ENDPOINT\"),\n",
    "    temperature=0.7\n",
    ")\n",
    "Settings.llm = llm"
   ]
  },
  {
   "cell_type": "markdown",
   "metadata": {},
   "source": [
    "## Create a local database\n",
    "\n",
    "For this minimal example, we'll create a local SQLite database and add some synthetic data so we have something to query.\n",
    "\n",
    "Load the `sql` IPython extension so we can interact with the database using magic commands (the `%` instructions) to create a new, empty SQLite database."
   ]
  },
  {
   "cell_type": "code",
   "execution_count": 3,
   "metadata": {},
   "outputs": [],
   "source": [
    "%load_ext sql\n",
    "%sql sqlite:///sample.db"
   ]
  },
  {
   "cell_type": "markdown",
   "metadata": {},
   "source": [
    "Let's create a SQLite database with some sample data:"
   ]
  },
  {
   "cell_type": "code",
   "execution_count": 4,
   "metadata": {},
   "outputs": [
    {
     "name": "stdout",
     "output_type": "stream",
     "text": [
      " * sqlite:///sample.db\n",
      "Done.\n",
      "Done.\n",
      "Done.\n",
      "3 rows affected.\n",
      "3 rows affected.\n",
      "3 rows affected.\n"
     ]
    },
    {
     "data": {
      "text/plain": [
       "[]"
      ]
     },
     "execution_count": 4,
     "metadata": {},
     "output_type": "execute_result"
    }
   ],
   "source": [
    "%%sql\n",
    "-- Create the 'products' table\n",
    "CREATE TABLE IF NOT EXISTS products (\n",
    "  \tproduct_id INTEGER PRIMARY KEY AUTOINCREMENT,\n",
    "  \tproduct_name VARCHAR(255) NOT NULL,\n",
    "  \tprice DECIMAL(10, 2) NOT NULL\n",
    "  );\n",
    "\n",
    "-- Create the 'staff' table\n",
    "CREATE TABLE IF NOT EXISTS staff (\n",
    "  \tstaff_id INTEGER PRIMARY KEY AUTOINCREMENT,\n",
    "  \tfirst_name VARCHAR(255) NOT NULL,\n",
    "  \tlast_name VARCHAR(255) NOT NULL\n",
    "  );\n",
    "\n",
    "-- Create the 'orders' table\n",
    "CREATE TABLE IF NOT EXISTS orders (\n",
    "  \torder_id INTEGER PRIMARY KEY AUTOINCREMENT,\n",
    "  \tcustomer_name VARCHAR(255) NOT NULL,\n",
    "  \tstaff_id INTEGER NOT NULL,\n",
    "  \tproduct_id INTEGER NOT NULL,\n",
    "  \tFOREIGN KEY (staff_id) REFERENCES staff (staff_id),\n",
    "  \tFOREIGN KEY (product_id) REFERENCES products (product_id)\n",
    "  );\n",
    "\n",
    "-- Insert data into the 'products' table\n",
    "INSERT INTO products (product_name, price) VALUES\n",
    "  \t('Laptop', 799.99),\n",
    "  \t('Keyboard', 129.99),\n",
    "  \t('Mouse', 29.99);\n",
    "\n",
    "-- Insert data into the 'staff' table\n",
    "INSERT INTO staff (first_name, last_name) VALUES\n",
    "  \t('Alice', 'Smith'),\n",
    "  \t('Bob', 'Johnson'),\n",
    "  \t('Charlie', 'Williams');\n",
    "\n",
    "-- Insert data into the 'orders' table\n",
    "INSERT INTO orders (customer_name, staff_id, product_id) VALUES\n",
    "  \t('David Lee', 1, 1),\n",
    "  \t('Emily Chen', 2, 2),\n",
    "  \t('Frank Brown', 1, 3);"
   ]
  },
  {
   "cell_type": "markdown",
   "metadata": {},
   "source": [
    "## Define Database Functions\n",
    "\n",
    "For a database interface, we need three core functions that work together to allow the LLM to explore and query the data:\n",
    "\n",
    "1. **List Tables**: Shows what tables are available\n",
    "2. **Describe Table**: Shows the structure of a specific table\n",
    "3. **Execute Query**: Runs SQL queries"
   ]
  },
  {
   "cell_type": "code",
   "execution_count": 5,
   "metadata": {},
   "outputs": [],
   "source": [
    "import sqlite3\n",
    "from typing import List, Tuple, Any\n",
    "\n",
    "db_file = \"sample.db\"\n",
    "db_conn = sqlite3.connect(db_file)"
   ]
  },
  {
   "cell_type": "markdown",
   "metadata": {},
   "source": [
    "Create a class to handle database operations with type hints and detailed docstrings:"
   ]
  },
  {
   "cell_type": "code",
   "execution_count": 6,
   "metadata": {},
   "outputs": [
    {
     "name": "stdout",
     "output_type": "stream",
     "text": [
      " - DB CALL: list_tables\n"
     ]
    },
    {
     "data": {
      "text/plain": [
       "['products', 'sqlite_sequence', 'staff', 'orders']"
      ]
     },
     "execution_count": 6,
     "metadata": {},
     "output_type": "execute_result"
    }
   ],
   "source": [
    "def list_tables() -> List[str]:\n",
    "    \"\"\"Retrieve the names of all tables in the database.\"\"\"\n",
    "    # Include print logging statements so you can see when functions are being called.\n",
    "    print(' - DB CALL: list_tables')\n",
    "\n",
    "    cursor = db_conn.cursor()\n",
    "\n",
    "    # fetch all the table names.\n",
    "    cursor.execute(\"SELECT name FROM sqlite_master WHERE type='table';\")\n",
    "\n",
    "    tables = cursor.fetchall()\n",
    "    \n",
    "    return [table[0] for table in tables]\n",
    "\n",
    "list_tables()"
   ]
  },
  {
   "cell_type": "markdown",
   "metadata": {},
   "source": [
    "Once the available tables is known, the next step a database user will need is to understand what columns are available in a given table. Define that too, and test that it works as expected."
   ]
  },
  {
   "cell_type": "code",
   "execution_count": 7,
   "metadata": {},
   "outputs": [
    {
     "name": "stdout",
     "output_type": "stream",
     "text": [
      " - DB CALL: describe_table\n"
     ]
    },
    {
     "data": {
      "text/plain": [
       "[('product_id', 'INTEGER'),\n",
       " ('product_name', 'VARCHAR(255)'),\n",
       " ('price', 'DECIMAL(10, 2)')]"
      ]
     },
     "execution_count": 7,
     "metadata": {},
     "output_type": "execute_result"
    }
   ],
   "source": [
    "def describe_table(table_name: str) -> List[Tuple[str, str]]:\n",
    "    \"\"\"\n",
    "    Look up the table schema.\n",
    "\n",
    "    Args:\n",
    "        table_name (str): The name of the table to describe\n",
    "\n",
    "    Returns: \n",
    "        List of columns where each entry is a tuple of (column_name, column_type)\n",
    "    \"\"\"\n",
    "    print(' - DB CALL: describe_table')\n",
    "\n",
    "    cursor = db_conn.cursor()\n",
    "    cursor.execute(f\"PRAGMA table_info({table_name});\")\n",
    "    return [(col[1], col[2]) for col in cursor.fetchall()]\n",
    "\n",
    "describe_table('products')"
   ]
  },
  {
   "cell_type": "markdown",
   "metadata": {},
   "source": [
    "Now that the system knows what tables and columns are present, it has enough information to be able to generate and run a `SELECT` query. Now provide that functionality, and test that it works."
   ]
  },
  {
   "cell_type": "code",
   "execution_count": 8,
   "metadata": {},
   "outputs": [
    {
     "name": "stdout",
     "output_type": "stream",
     "text": [
      " - DB CALL: execute_query\n"
     ]
    },
    {
     "data": {
      "text/plain": [
       "[(1, 'Laptop', 799.99), (2, 'Keyboard', 129.99), (3, 'Mouse', 29.99)]"
      ]
     },
     "execution_count": 8,
     "metadata": {},
     "output_type": "execute_result"
    }
   ],
   "source": [
    "def execute_query(sql: str) -> List[List[str]]:\n",
    "    \"\"\"\n",
    "    Execute a SELECT statement and return the results.\n",
    "\n",
    "    Args:\n",
    "        sql (str): The SQL query to execute\n",
    "\n",
    "    Returns:\n",
    "        List of lists where each inner list contains the row data.\n",
    "    \"\"\"\n",
    "    print(' - DB CALL: execute_query')\n",
    "\n",
    "    cursor = db_conn.cursor()\n",
    "    cursor.execute(sql)\n",
    "    return cursor.fetchall()\n",
    "\n",
    "execute_query('SELECT * FROM products;')"
   ]
  },
  {
   "cell_type": "markdown",
   "metadata": {},
   "source": [
    "## Implement function calls\n",
    "\n",
    "Function calling is a powerful capability that allows LLMs to interact with external tools and functions in a structured way. With LlamaIndex, this is implemented through a sophisticated agent framework.\n",
    "\n",
    "### Core Concepts\n",
    "\n",
    "1. Tools and Functions\n",
    "    - In LlamaIndex, functions are wrapped as \"Tools\" using the `FunctionTool` class.\n",
    "    - Each tool includes metadata about is purpose and usage.\n",
    "    - Tools can be Python functions with type hints and docstrings. \n",
    "2. ReAct Agent Framework\n",
    "    - LlamaIndex uses a ReAct (reasoning + action) pattern\n",
    "    - The agent can:\n",
    "        - reason about which tools to use\n",
    "        - plan multiple steps\n",
    "        - execute tools in sequence\n",
    "        - combine results into coherent responses\n",
    "\n",
    "3. Structured Communication\n",
    "    - Tools communicate with the LLMs through well-defined interfaces.\n",
    "    - Type hints and docstrings serves as documentation\n",
    "    - The LLM never sees the actual implementation"
   ]
  },
  {
   "cell_type": "markdown",
   "metadata": {},
   "source": [
    "Step 1: Tool definition"
   ]
  },
  {
   "cell_type": "code",
   "execution_count": 9,
   "metadata": {},
   "outputs": [],
   "source": [
    "tools = [\n",
    "    FunctionTool.from_defaults(\n",
    "        fn=list_tables,\n",
    "        # name=\"list_tables\", # this is the name of the function, if not provided, it will be the name of the function\n",
    "        # description=\"Get all table names from the database\" # this is the description of the function, if not provided, it will be the docstring of the function\n",
    "    ),\n",
    "    FunctionTool.from_defaults(\n",
    "        fn=describe_table,\n",
    "    ),\n",
    "    FunctionTool.from_defaults(\n",
    "        fn=execute_query,\n",
    "    )\n",
    "]"
   ]
  },
  {
   "cell_type": "markdown",
   "metadata": {},
   "source": [
    "Step 2: Agent creation"
   ]
  },
  {
   "cell_type": "code",
   "execution_count": 22,
   "metadata": {},
   "outputs": [],
   "source": [
    "instruction = \"\"\"You are a helpful chatbot that can interact with an SQL database for a computer\n",
    "store. You will take the users questions and turn them into SQL queries using the tools\n",
    "available. Once you have the information you need, you will answer the user's question using\n",
    "the data returned. Use list_tables to see what tables are present, describe_table to understand\n",
    "the schema, and execute_query to issue an SQL SELECT query.\"\"\"\n",
    "\n",
    "agent = ReActAgent.from_tools(\n",
    "    tools = tools,\n",
    "    verbose=True,\n",
    "    max_iterations=20,\n",
    "    context=instruction # this will cover the default ReActChatFormatter\n",
    ")"
   ]
  },
  {
   "cell_type": "markdown",
   "metadata": {},
   "source": [
    "Step 3: execution\n",
    "\n",
    "1. User sends a query to the agent\n",
    "2. Agent analyzes the query and plans necessary steps\n",
    "3. Agent selects appropriate tools\n",
    "4. Tools are executed in sequence\n",
    "5. Results are combined into a natural language response"
   ]
  },
  {
   "cell_type": "code",
   "execution_count": 23,
   "metadata": {},
   "outputs": [
    {
     "name": "stdout",
     "output_type": "stream",
     "text": [
      "> Running step 334674f6-3fb3-4e3c-ad4f-762db829bf81. Step input: What is the cheapest product?\n",
      "\u001b[1;3;38;5;200mThought: The current language of the user is: English. I need to use a tool to help me answer the question.\n",
      "Action: list_tables\n",
      "Action Input: {}\n",
      "\u001b[0m - DB CALL: list_tables\n",
      "\u001b[1;3;34mObservation: ['products', 'sqlite_sequence', 'staff', 'orders']\n",
      "\u001b[0m> Running step c5bbdd5e-efdd-4e31-b8a7-1e9c40e4bfae. Step input: None\n",
      "\u001b[1;3;38;5;200mThought: I need to understand the schema of the 'products' table to find the price column and identify the cheapest product.\n",
      "Action: describe_table\n",
      "Action Input: {'table_name': 'products'}\n",
      "\u001b[0m - DB CALL: describe_table\n",
      "\u001b[1;3;34mObservation: [('product_id', 'INTEGER'), ('product_name', 'VARCHAR(255)'), ('price', 'DECIMAL(10, 2)')]\n",
      "\u001b[0m> Running step dc2ac50b-5d42-4921-af1e-7ef49d92c018. Step input: None\n",
      "\u001b[1;3;38;5;200mThought: Now that I have the schema of the 'products' table, I can query it to find the cheapest product.\n",
      "Action: execute_query\n",
      "Action Input: {'sql': 'SELECT product_name, price FROM products ORDER BY price ASC LIMIT 1'}\n",
      "\u001b[0m - DB CALL: execute_query\n",
      "\u001b[1;3;34mObservation: [('Mouse', 29.99)]\n",
      "\u001b[0m> Running step 9b4156a2-e401-49d7-85f3-f2cbc5650320. Step input: None\n",
      "\u001b[1;3;38;5;200mThought: I have obtained the information about the cheapest product.\n",
      "Answer: The cheapest product is the Mouse, which costs $29.99.\n",
      "\u001b[0mQuestion: What is the cheapest product?\n",
      "Answer: The cheapest product is the Mouse, which costs $29.99.\n",
      "\n"
     ]
    }
   ],
   "source": [
    "# Test with simple queries\n",
    "response = agent.chat(\"What is the cheapest product?\")\n",
    "print(\"Question: What is the cheapest product?\")\n",
    "print(f\"Answer: {response}\\n\")"
   ]
  },
  {
   "cell_type": "code",
   "execution_count": 24,
   "metadata": {},
   "outputs": [
    {
     "name": "stdout",
     "output_type": "stream",
     "text": [
      "> Running step 27ef9e83-7de3-4432-8d83-3b8689525f02. Step input: Who sold it?\n",
      "\u001b[1;3;38;5;200mThought: The current language of the user is: English. I need to use a tool to help me answer the question.\n",
      "Action: execute_query\n",
      "Action Input: {'sql': 'SELECT salespersons.name FROM sales JOIN products ON sales.product_id = products.id JOIN salespersons ON sales.salesperson_id = salespersons.id WHERE products.price = (SELECT MIN(price) FROM products)'}\n",
      "\u001b[0m - DB CALL: execute_query\n",
      "\u001b[1;3;34mObservation: Error: no such table: sales\n",
      "\u001b[0m> Running step c3a1b16b-8f04-4fa0-89d9-ed4e071dad0a. Step input: None\n",
      "\u001b[1;3;38;5;200mThought: I need to check the available tables in the database to understand the schema and find the relevant tables.\n",
      "Action: list_tables\n",
      "Action Input: {}\n",
      "\u001b[0m - DB CALL: list_tables\n",
      "\u001b[1;3;34mObservation: ['products', 'sqlite_sequence', 'staff', 'orders']\n",
      "\u001b[0m> Running step d7593792-e45a-49f0-b614-61917a3a02b7. Step input: None\n",
      "\u001b[1;3;38;5;200mThought: There isn't a \"sales\" table, but there is an \"orders\" table. I need to check the schema of the \"orders\" table to understand its structure and see if it contains relevant information about salespersons.\n",
      "Action: describe_table\n",
      "Action Input: {'table_name': 'orders'}\n",
      "\u001b[0m - DB CALL: describe_table\n",
      "\u001b[1;3;34mObservation: [('order_id', 'INTEGER'), ('customer_name', 'VARCHAR(255)'), ('staff_id', 'INTEGER'), ('product_id', 'INTEGER')]\n",
      "\u001b[0m> Running step 7bb0cbe9-2dd0-44f3-85df-9dd0c8fc5227. Step input: None\n",
      "\u001b[1;3;38;5;200mThought: The \"orders\" table contains a \"staff_id\" column, which is likely related to the \"staff\" table. I need to check the schema of the \"staff\" table to confirm it contains information about salespersons.\n",
      "Action: describe_table\n",
      "Action Input: {'table_name': 'staff'}\n",
      "\u001b[0m - DB CALL: describe_table\n",
      "\u001b[1;3;34mObservation: [('staff_id', 'INTEGER'), ('first_name', 'VARCHAR(255)'), ('last_name', 'VARCHAR(255)')]\n",
      "\u001b[0m> Running step 04607ead-b855-4cdd-91c6-93187e5cc62b. Step input: None\n",
      "\u001b[1;3;38;5;200mThought: The \"staff\" table contains information about salespersons. I now need to find the staff member who sold the cheapest product by joining the \"orders\" table with the \"products\" and \"staff\" tables.\n",
      "Action: execute_query\n",
      "Action Input: {'sql': 'SELECT staff.first_name, staff.last_name FROM orders JOIN products ON orders.product_id = products.product_id JOIN staff ON orders.staff_id = staff.staff_id WHERE products.price = (SELECT MIN(price) FROM products)'}\n",
      "\u001b[0m - DB CALL: execute_query\n",
      "\u001b[1;3;34mObservation: [('Alice', 'Smith')]\n",
      "\u001b[0m> Running step d9a8e397-b826-4eb7-8024-e47cc4a9a230. Step input: None\n",
      "\u001b[1;3;38;5;200mThought: I can answer without using any more tools. I'll use the user's language to answer.\n",
      "Answer: The cheapest product was sold by Alice Smith.\n",
      "\u001b[0mQuestion: Who sold it?\n",
      "Answer: The cheapest product was sold by Alice Smith.\n",
      "\n"
     ]
    }
   ],
   "source": [
    "# Test with follow-up questions. This is a more complex query that requires multiple tables and steps\n",
    "response = agent.chat(\"Who sold it?\")\n",
    "print(\"Question: Who sold it?\")\n",
    "print(f\"Answer: {response}\\n\")"
   ]
  },
  {
   "cell_type": "markdown",
   "metadata": {},
   "source": [
    "Inspect the chat history"
   ]
  },
  {
   "cell_type": "code",
   "execution_count": 25,
   "metadata": {},
   "outputs": [
    {
     "name": "stdout",
     "output_type": "stream",
     "text": [
      "User:\n",
      "  What is the cheapest product?\n",
      "\n",
      "Assistant:\n",
      "  The cheapest product is the Mouse, which costs $29.99.\n",
      "\n",
      "User:\n",
      "  Who sold it?\n",
      "\n",
      "Assistant:\n",
      "  The cheapest product was sold by Alice Smith.\n",
      "\n"
     ]
    }
   ],
   "source": [
    "import textwrap\n",
    "def print_chat_history(agent):\n",
    "    \"\"\"Prints out the chat history from LlamaIndex agent.\"\"\"\n",
    "    \n",
    "    # Get messages from agent's memory\n",
    "    messages = agent.memory.get()\n",
    "    \n",
    "    for msg in messages:\n",
    "        # Print role (human or assistant)\n",
    "        print(f\"{msg.role.capitalize()}:\")\n",
    "        \n",
    "        # Print content\n",
    "        if msg.content:\n",
    "            print(textwrap.indent(msg.content, \"  \"))\n",
    "            \n",
    "        # If there are additional sources/metadata\n",
    "        if msg.additional_kwargs:\n",
    "            print(\"  Metadata:\")\n",
    "            print(textwrap.indent(str(msg.additional_kwargs), \"    \"))\n",
    "            \n",
    "        print()\n",
    "\n",
    "print_chat_history(agent)"
   ]
  },
  {
   "cell_type": "markdown",
   "metadata": {},
   "source": [
    "## Advanced Features\n",
    "\n",
    "In this section, we'll explore advanced features that enhance our function calling implementation with LlamaIndex and Azure OpenAI.\n",
    "\n",
    "### 1. Error Handling\n",
    "Error handling is crucial for building robust applications. Here's how we implement comprehensive error handling:"
   ]
  },
  {
   "cell_type": "code",
   "execution_count": 26,
   "metadata": {},
   "outputs": [],
   "source": [
    "from typing import Optional\n",
    "import logging\n",
    "\n",
    "class DatabaseError(Exception):\n",
    "    pass\n",
    "def safe_execute_query(sql: str) -> Optional[List[Any]]:\n",
    "    \"\"\"Safely execute a query with error handling.\n",
    "    Args:\n",
    "        sql (str): SQL query to execute\n",
    "    Returns:\n",
    "        Optional[List[Any]]: Query results or None if error\n",
    "    Raises:\n",
    "        DatabaseError: If query execution fails\n",
    "    \"\"\"\n",
    "    try:\n",
    "        cursor = db_conn.cursor()\n",
    "        cursor.execute(sql)\n",
    "        return cursor.fetchall()\n",
    "    except sqlite3.Error as e:\n",
    "        logging.error(f\"Database error: {e}\")\n",
    "        raise DatabaseError(f\"Failed to execute query: {e}\")"
   ]
  },
  {
   "cell_type": "markdown",
   "metadata": {},
   "source": [
    "\n",
    "Key aspects of error handling:\n",
    "- Custom exception classes for specific error types\n",
    "- Detailed error logging for debugging\n",
    "- Graceful error recovery mechanisms\n",
    "- Clear error messages for users\n",
    "\n",
    "### 2. Query Validation\n",
    "Query validation adds a security layer to prevent unsafe operations:\n"
   ]
  },
  {
   "cell_type": "code",
   "execution_count": 29,
   "metadata": {},
   "outputs": [],
   "source": [
    "def validate_query(sql: str) -> bool:\n",
    "    \"\"\"Validate that a query is safe to execute.\n",
    "    \n",
    "    Args:\n",
    "        sql (str): SQL query to validate\n",
    "        \n",
    "    Returns:\n",
    "        bool: True if query is safe, False otherwise\n",
    "    \"\"\"\n",
    "    sql = sql.lower()\n",
    "    # Only allow SELECT statements\n",
    "    if not sql.strip().startswith('select'):\n",
    "        return False\n",
    "    # Block dangerous keywords\n",
    "    dangerous_keywords = ['drop', 'delete', 'update', 'insert', 'alter', 'truncate']\n",
    "    return not any(keyword in sql for keyword in dangerous_keywords)"
   ]
  },
  {
   "cell_type": "markdown",
   "metadata": {},
   "source": [
    "Benefits of query validation:\n",
    "- Prevents SQL injection attacks\n",
    "- Ensures read-only operations\n",
    "- Blocks dangerous database operations\n",
    "- Validates query structure"
   ]
  },
  {
   "cell_type": "code",
   "execution_count": 33,
   "metadata": {},
   "outputs": [
    {
     "name": "stdout",
     "output_type": "stream",
     "text": [
      "> Running step 5f7a9f06-bd33-4172-b04d-7a103f3372b9. Step input: Can you safely check the most expensive product?\n",
      "\u001b[1;3;38;5;200mThought: The current language of the user is: English. I need to use a tool to help me answer the question.\n",
      "Action: list_tables\n",
      "Action Input: {}\n",
      "\u001b[0m - DB CALL: list_tables\n",
      "\u001b[1;3;34mObservation: ['products', 'sqlite_sequence', 'staff', 'orders']\n",
      "\u001b[0m> Running step 767d1750-e37f-41c7-881b-19b5a6d20426. Step input: None\n",
      "\u001b[1;3;38;5;200mThought: I need to understand the schema of the 'products' table to identify the columns and then safely execute a query to find the most expensive product.\n",
      "Action: describe_table\n",
      "Action Input: {'table_name': 'products'}\n",
      "\u001b[0m - DB CALL: describe_table\n",
      "\u001b[1;3;34mObservation: [('product_id', 'INTEGER'), ('product_name', 'VARCHAR(255)'), ('price', 'DECIMAL(10, 2)')]\n",
      "\u001b[0m> Running step 7f0bb54e-3a43-4bab-86dd-4e158d323c1b. Step input: None\n",
      "\u001b[1;3;38;5;200mThought: I now have the necessary information about the 'products' table schema. I will construct a query to find the most expensive product.\n",
      "Action: validate_query\n",
      "Action Input: {'sql': 'SELECT product_name, price FROM products ORDER BY price DESC LIMIT 1'}\n",
      "\u001b[0m\u001b[1;3;34mObservation: True\n",
      "\u001b[0m> Running step 8ad91c83-4303-492e-96bc-38cb43edc808. Step input: None\n",
      "\u001b[1;3;38;5;200mThought: The query is safe to execute. I will now execute the query to find the most expensive product.\n",
      "Action: safe_execute_query\n",
      "Action Input: {'sql': 'SELECT product_name, price FROM products ORDER BY price DESC LIMIT 1'}\n",
      "\u001b[0m\u001b[1;3;34mObservation: [('Laptop', 799.99)]\n",
      "\u001b[0m> Running step be417ddc-2039-4f29-b5f3-a856cb237582. Step input: None\n",
      "\u001b[1;3;38;5;200mThought: I can answer without using any more tools. I'll use the user's language to answer.\n",
      "Answer: The most expensive product is the Laptop, priced at $799.99.\n",
      "\u001b[0m\n",
      "Agent Response:\n",
      "The most expensive product is the Laptop, priced at $799.99.\n"
     ]
    }
   ],
   "source": [
    "advanced_tools = [\n",
    "    FunctionTool.from_defaults(\n",
    "        fn=safe_execute_query,\n",
    "    ),\n",
    "    FunctionTool.from_defaults(\n",
    "        fn=validate_query,\n",
    "    ),\n",
    "    FunctionTool.from_defaults(\n",
    "        fn=list_tables,\n",
    "    ),\n",
    "    FunctionTool.from_defaults(\n",
    "        fn=describe_table,\n",
    "    )\n",
    "]\n",
    "\n",
    "# create an agent with the advanced tools\n",
    "advanced_agent = ReActAgent.from_tools(\n",
    "    tools=advanced_tools,\n",
    "    verbose=True,\n",
    "    max_iterations=20,\n",
    "    context=instruction\n",
    ")\n",
    "\n",
    "# Test the advanced agent\n",
    "response = advanced_agent.chat(\"Can you safely check the most expensive product?\")\n",
    "print(\"\\nAgent Response:\")\n",
    "print(response)"
   ]
  },
  {
   "cell_type": "markdown",
   "metadata": {},
   "source": [
    "This code demonstrates:\n",
    "- Error handling with both valid and invalid queries\n",
    "- Query validation for different types of SQL statements\n",
    "- Custom response formatting with Pydantic models\n",
    "- Integration with the LlamaIndex agent using advanced features"
   ]
  }
 ],
 "metadata": {
  "kernelspec": {
   "display_name": "llm",
   "language": "python",
   "name": "python3"
  },
  "language_info": {
   "codemirror_mode": {
    "name": "ipython",
    "version": 3
   },
   "file_extension": ".py",
   "mimetype": "text/x-python",
   "name": "python",
   "nbconvert_exporter": "python",
   "pygments_lexer": "ipython3",
   "version": "3.10.15"
  }
 },
 "nbformat": 4,
 "nbformat_minor": 2
}
