{
 "cells": [
  {
   "cell_type": "markdown",
   "metadata": {},
   "source": [
    "# Building an Agent with LangGraph and Azure OpenAI: A Complete Guide\n",
    "\n",
    "## Introduction\n",
    "\n",
    "This tutorial will guide you through building an intelligent ordering system called BaristaBot using LangGraph and Azure OpenAI. The system will:\n",
    "- Provide a natural language interface for cafe orders\n",
    "- Maintain conversation state\n",
    "- Handle complex order modifications\n",
    "- Integrate with a menu system\n",
    "- Process and validate orders\n",
    "\n",
    "### Why LangGraph?\n",
    "\n",
    "LangGraph is a powerful framework for building stateful, graph-based applications powered by language models. Key advantages include:\n",
    "- Clear separation of concerns through nodes and edges\n",
    "- Built-in state management\n",
    "- Flexible routing between components\n",
    "- Support for both synchronous and streaming operations\n",
    "- Integration with various LLM providers\n",
    "\n",
    "## Understanding LangGraph\n",
    "LangGraph is a framework that helps you build applications with language models using a graph-based approach. Think of it like building blocks where each block has a specific job and they're connected in specific ways.\n",
    "\n",
    "### Key Concepts\n",
    "\n",
    "\n",
    "1. **Graphs**:  At its heart, LangGraph uses graphs. A graph is like a flowchart that shows how different parts of your application connect and work together.\n",
    "\n",
    "2. **State**:  LangGraph keeps track of information as it moves through your application. This is called \"state\" and it's like a memory that holds things like:\n",
    "   - The conversation history\n",
    "   - Any important variables\n",
    "   - The current status of the application\n",
    "\n",
    "3. **Nodes**:  These are the building blocks of your application. Each node is like a worker that has a specific job. For example:\n",
    "   - One node might talk to the language model\n",
    "   - Another node might get input from the user\n",
    "   - Another might update a database\n",
    "   \n",
    "   Python functions that encode the logic of your agents. They receive the current `State` as input, perform some computation or side-effect, and return an updated `State`.\n",
    "\n",
    "4. **Edges**: These connect the nodes together and show how information flows between them. They determine things like:\n",
    "   - What happens next after each step\n",
    "   - When to stop or continue\n",
    "   - Which path to take based on certain conditions\n",
    "\n",
    "By composing `Nodes` and `Edges`, you can create complex, looping workflows that evolve the `State` over time. The real power, though, comes from how LangGraph manages that `State`. To emphasize: `Nodes` and `Edges` are nothing more than Python functions - they can contain an LLM or just good ol' Python code.\n",
    "\n",
    "In short: `nodes` do the work. `edges` tell what to do next.\n",
    "\n",
    "To start, install the LangGraph package:\n",
    "```bash\n",
    "%pip install langgraph\n",
    "```\n",
    "\n",
    "Let me show you a very simple example to illustrate these concepts:\n"
   ]
  },
  {
   "cell_type": "code",
   "execution_count": 9,
   "metadata": {},
   "outputs": [],
   "source": [
    "from langgraph.graph import StateGraph, START, END\n",
    "from typing_extensions import TypedDict\n",
    "\n",
    "# 1. First, we define what information we want to track (State)\n",
    "class SimpleState(TypedDict):\n",
    "    message: str  # Just tracking a single message for now\n",
    "    \n",
    "# 2. Create a simple node that processes messages\n",
    "def message_processor(state: SimpleState) -> SimpleState:\n",
    "    \"\"\"A simple node that adds 'Processed: ' to messages\"\"\"\n",
    "    return {\"message\": f\"Processed: {state['message']}\"}\n",
    "\n",
    "# 3. Build the graph\n",
    "graph = StateGraph(SimpleState)\n",
    "graph.add_node(\"processor\", message_processor)  # Add our node\n",
    "graph.add_edge(START, \"processor\")  # Connect start to our node\n",
    "graph.add_edge(\"processor\", END)    # Connect our node to end\n",
    "\n",
    "simple_graph = graph.compile() # Compile the graph\n"
   ]
  },
  {
   "cell_type": "markdown",
   "metadata": {},
   "source": [
    "It can be helpful to visualise the graph you just defined. The following code renders the graph."
   ]
  },
  {
   "cell_type": "code",
   "execution_count": 12,
   "metadata": {},
   "outputs": [
    {
     "data": {
      "image/png": "[encoded data removed]",
      "text/plain": [
       "<IPython.core.display.Image object>"
      ]
     },
     "execution_count": 12,
     "metadata": {},
     "output_type": "execute_result"
    }
   ],
   "source": [
    "from IPython.display import Image, display\n",
    "\n",
    "Image(simple_graph.get_graph().draw_mermaid_png())"
   ]
  },
  {
   "cell_type": "markdown",
   "metadata": {},
   "source": [
    "## Setup and Installation\n",
    "\n",
    "Requirements:\n",
    "```bash\n",
    "pip install langchain-openai\n",
    "pip install azure-openai\n",
    "```\n",
    "### Configuration\n",
    "Create a  `.env` file:\n",
    "\n",
    "```python\n",
    "AZURE_OPENAI_ENDPOINT=\"your_azure_endpoint\"\n",
    "AZURE_OPENAI_API_KEY=\"your_api_key\"\n",
    "OPENAI_API_VERSION=\"your_api_version\"\n",
    "```"
   ]
  },
  {
   "cell_type": "code",
   "execution_count": 15,
   "metadata": {},
   "outputs": [],
   "source": [
    "from dotenv import load_dotenv\n",
    "import os\n",
    "from langchain_openai import AzureOpenAI\n",
    "\n",
    "load_dotenv()\n",
    "\n",
    "llm = AzureOpenAI(\n",
    "    azure_deployment='gpt-4o',\n",
    "    api_version=os.getenv(\"OPENAI_API_VERSION\"),\n",
    "    azure_endpoint=os.getenv(\"AZURE_OPENAI_ENDPOINT\"),\n",
    "    api_key=os.getenv(\"AZURE_OPENAI_KEY\"),\n",
    "    temperature=0.7,\n",
    "    max_retries=3,\n",
    ")\n"
   ]
  },
  {
   "cell_type": "markdown",
   "metadata": {},
   "source": [
    "## Core Concepts"
   ]
  },
  {
   "cell_type": "code",
   "execution_count": null,
   "metadata": {},
   "outputs": [],
   "source": []
  }
 ],
 "metadata": {
  "kernelspec": {
   "display_name": "llm",
   "language": "python",
   "name": "python3"
  },
  "language_info": {
   "codemirror_mode": {
    "name": "ipython",
    "version": 3
   },
   "file_extension": ".py",
   "mimetype": "text/x-python",
   "name": "python",
   "nbconvert_exporter": "python",
   "pygments_lexer": "ipython3",
   "version": "3.10.15"
  }
 },
 "nbformat": 4,
 "nbformat_minor": 2
}
