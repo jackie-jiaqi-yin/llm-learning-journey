{
 "cells": [
  {
   "cell_type": "markdown",
   "id": "a544e7498d91bea3",
   "metadata": {},
   "source": [
    "The original notebook is available at [Kaggle](https://www.kaggle.com/whitepaper-prompt-engineering), which use the Gemini API and AI Studio.\n",
    "In my notebook, I will use LangChain to call chatgpt API. "
   ]
  },
  {
   "cell_type": "markdown",
   "id": "bfd5d03e5603f4de",
   "metadata": {},
   "source": [
    "# Day 1 - Prompting with LlamaIndex and Azure Open AI"
   ]
  },
  {
   "cell_type": "markdown",
   "id": "b1498259fd653528",
   "metadata": {},
   "source": [
    "Welcome to the 5-day Generative AI course!\n",
    "This notebook will show you how to get started with LlamIndex and ChatGPT, walking you through example prompts and techniques for effective prompting. This interactive notebook will give you hands-on experience with prompting techniques and best practices."
   ]
  },
  {
   "cell_type": "markdown",
   "id": "f360d23048b25b5e",
   "metadata": {},
   "source": [
    "## Before you begin\n",
    "To run this notebook, you need \n",
    "- An Azure subscriptino\n",
    "- Create an Azure AI studio\n",
    "- Create an Azure OpenAI model\n",
    "\n",
    "Please follow https://learn.microsoft.com/en-us/azure/ai-studio/quickstarts/get-started-playground\n",
    "\n",
    "If you don't want to create an Azure Subscription, you can use OpenAI API from https://platform.openai.com/signup directly."
   ]
  },
  {
   "cell_type": "markdown",
   "id": "13c59bdc4afce172",
   "metadata": {},
   "source": [
    "In this notebook, you'll explore prompts and prompt parameters using LlamaIndex with Azure OpenAI's ChatGPT model. LlamaIndex is a framework for developing applications powered by language models, providing convenient abstractions for working with various LLMs including ChatGPT. You'll learn how to:\n",
    "\n",
    "- Set up Llama with Azure OpenAI\n",
    "- Create different types of prompts\n",
    "- Work with structured outputs\n",
    "- Generate codes"
   ]
  },
  {
   "cell_type": "markdown",
   "id": "11edcd7d1cdba33",
   "metadata": {},
   "source": [
    "## Get Started with LlamaIndex and Azure OpenAI\n",
    "All exercises in this notebook will use LangChain with ChatGPT. Let's start by setting up our environment and required packages."
   ]
  },
  {
   "cell_type": "markdown",
   "id": "d9aac3e8d67e0ac0",
   "metadata": {},
   "source": [
    "### Setup and Configure\n",
    "First, let's install the required packages and set up our environment."
   ]
  },
  {
   "cell_type": "code",
   "execution_count": 1,
   "id": "28f9150592592f49",
   "metadata": {
    "ExecuteTime": {
     "end_time": "2024-11-14T02:22:23.976494Z",
     "start_time": "2024-11-14T02:22:22.614609Z"
    }
   },
   "outputs": [
    {
     "name": "stdout",
     "output_type": "stream",
     "text": [
      "Note: you may need to restart the kernel to use updated packages.\n"
     ]
    }
   ],
   "source": [
    "%pip install -q llama-index llama-index-core llama-index-llms-azure-openai python-dotenv "
   ]
  },
  {
   "cell_type": "code",
   "execution_count": 4,
   "id": "411d77b2369f59fe",
   "metadata": {
    "ExecuteTime": {
     "end_time": "2024-11-14T06:44:58.743292Z",
     "start_time": "2024-11-14T06:44:58.736904Z"
    }
   },
   "outputs": [],
   "source": [
    "from dotenv import load_dotenv\n",
    "from llama_index.llms.azure_openai import AzureOpenAI\n",
    "from llama_index.core.chat_engine import SimpleChatEngine\n",
    "from llama_index.core.memory import ChatMemoryBuffer\n",
    "from llama_index.core import (\n",
    "    PromptTemplate\n",
    ")\n",
    "from enum import Enum\n",
    "from llama_index.program.openai import OpenAIPydanticProgram\n",
    "from pydantic import BaseModel\n",
    "from typing import List"
   ]
  },
  {
   "cell_type": "markdown",
   "id": "f2895b84a939b1b0",
   "metadata": {},
   "source": [
    "Load environment variable from .env file.\n",
    "```\n",
    "os.environ[\"AZURE_OPENAI_ENDPOINT\"] = \"YOUR_AZURE_ENDPOINT\"\n",
    "os.environ[\"AZURE_OPENAI_API_KEY\"] = \"YOUR_API_KEY\"\n",
    "os.environ[\"OPENAI_API_VERSION\"] = \"YOUR_API_VERSION\"\n",
    "```"
   ]
  },
  {
   "cell_type": "code",
   "execution_count": 2,
   "id": "c586993f570060c2",
   "metadata": {
    "ExecuteTime": {
     "end_time": "2024-11-14T02:22:32.048665Z",
     "start_time": "2024-11-14T02:22:32.042142Z"
    }
   },
   "outputs": [],
   "source": [
    "load_dotenv()\n",
    "# initialize the Azure OpenAI model\n",
    "# Initialize Azure OpenAI model\n",
    "llm = AzureOpenAI(\n",
    "    model=\"gpt-4o\",\n",
    "    engine=\"gpt-4o\",\n",
    "    temperature=0.7\n",
    ")\n",
    "\n",
    "# # Create global settings\n",
    "# Settings.llm = llm"
   ]
  },
  {
   "cell_type": "markdown",
   "id": "3a428df674161e98",
   "metadata": {},
   "source": [
    "## Basic Text Generation\n",
    "Let's start with a simple example of text generation."
   ]
  },
  {
   "cell_type": "code",
   "execution_count": 9,
   "id": "dbc912e5a381649b",
   "metadata": {
    "ExecuteTime": {
     "end_time": "2024-11-14T02:24:33.137703Z",
     "start_time": "2024-11-14T02:24:31.058607Z"
    }
   },
   "outputs": [
    {
     "name": "stdout",
     "output_type": "stream",
     "text": [
      "Sure! Imagine you have a really smart robot friend. This robot friend can learn new things just like you do. When you show it pictures, tell it stories, or ask it questions, it gets better and better at understanding and helping you.\n",
      "\n",
      "AI, or artificial intelligence, is like the brain of that smart robot friend. It's a special kind of computer program that can learn from lots of information, just like how you learn from books and experiences. So, when you see a robot that can talk, play games, or even help you find things, it's because of AI! It's like giving the robot a superpower to think and learn.\n"
     ]
    }
   ],
   "source": [
    "prompt = \"Explain AI to me like I'm a kid.\"\n",
    "response = llm.complete(prompt)\n",
    "print(response)\n",
    "    "
   ]
  },
  {
   "cell_type": "markdown",
   "id": "af82926c5db0c540",
   "metadata": {},
   "source": [
    "## Chat functionality with Memory\n",
    "Have a conversation with LLM. This does not make use of knowledge base"
   ]
  },
  {
   "cell_type": "code",
   "execution_count": 6,
   "id": "1a2da05201893352",
   "metadata": {
    "ExecuteTime": {
     "end_time": "2024-11-14T02:23:00.014636Z",
     "start_time": "2024-11-14T02:22:56.760055Z"
    }
   },
   "outputs": [
    {
     "name": "stdout",
     "output_type": "stream",
     "text": [
      "Hello, Jackie! How can I assist you today?\n",
      "------------------------------------------------\n",
      "Absolutely, Jackie! Dinosaurs are a fascinating subject. Did you know that the Tyrannosaurus rex, one of the most well-known dinosaurs, had a bite force estimated to be around 12,800 pounds? That’s about the weight of nearly six average cars! Additionally, some dinosaurs, like the Stegosaurus, had brains that were significantly smaller than what you'd expect for their body size. In fact, its brain was roughly the size of a walnut, despite the Stegosaurus being about 30 feet long! Dinosaurs roamed the Earth for about 165 million years, much longer than humans have been around. They continue to capture our imagination and provide valuable insights into the history of life on our planet.\n",
      "------------------------------------------------\n",
      "Yes, your name is Jackie. How can I assist you further?\n"
     ]
    }
   ],
   "source": [
    "def create_chat_engine():\n",
    "    \"\"\"Create a new chat engine with memory.\"\"\"\n",
    "    memory = ChatMemoryBuffer.from_defaults(token_limit=1500)\n",
    "    \n",
    "    chat_engine = SimpleChatEngine.from_defaults(\n",
    "        memory=memory,\n",
    "        llm=llm,\n",
    "        system_prompt=\"You are a helpful AI assistant who can answer questions and provide information.\" \n",
    "    )\n",
    "    return chat_engine\n",
    "\n",
    "# Example\n",
    "chat_engine = create_chat_engine()\n",
    "response = chat_engine.chat(\"Hello! My name is Jackie.\")\n",
    "print(response)\n",
    "print('------------------------------------------------')\n",
    "response = chat_engine.chat(\"Can you tell something interesting about dinosaurs?\")\n",
    "print(response)\n",
    "print('------------------------------------------------')\n",
    "response = chat_engine.chat(\"Do you remember what my name is?\")\n",
    "print(response)"
   ]
  },
  {
   "cell_type": "markdown",
   "id": "3966cdb344f17543",
   "metadata": {},
   "source": [
    "## Explore generation parameters"
   ]
  },
  {
   "cell_type": "markdown",
   "id": "25339c774348656e",
   "metadata": {},
   "source": [
    "### Output length\n",
    "\n",
    "When generating text with an LLM, the output length affects cost and performance. Generating more tokens increases computation, leading to higher energy consumption, latency, and cost.\n",
    "\n",
    "To stop the model from generating tokens past a limit, you can specify the `max_tokens` parameter when using the Azure Open AI. Specifying this parameter does not influence the generation of the output tokens, so the output will not become more stylistically or textually succinct, but it will stop generating tokens once the specified length is reached. Prompt engineering may be required to generate a more complete output for your given limit."
   ]
  },
  {
   "cell_type": "code",
   "execution_count": 7,
   "id": "5e70c8cd62712c28",
   "metadata": {
    "ExecuteTime": {
     "end_time": "2024-11-14T02:23:37.843122Z",
     "start_time": "2024-11-14T02:23:36.754335Z"
    }
   },
   "outputs": [
    {
     "name": "stdout",
     "output_type": "stream",
     "text": [
      "Title: The Importance of Olives in Modern Society\n",
      "\n",
      "Introduction\n",
      "\n",
      "Olives, the small, oval fruits of the Olea europaea tree, have been cultivated for thousands of years and hold a significant place in human history. Originating from the Mediterranean\n"
     ]
    }
   ],
   "source": [
    "short_model = AzureOpenAI(model=\"gpt-4o\", engine=\"gpt-4o\", max_tokens=50)\n",
    "response = short_model.complete(\"Write a 1000 word essay on the importance of olives in modern society.\")\n",
    "print(response.text)"
   ]
  },
  {
   "cell_type": "code",
   "execution_count": 8,
   "id": "77dbc36823265c42",
   "metadata": {
    "ExecuteTime": {
     "end_time": "2024-11-14T02:24:04.999172Z",
     "start_time": "2024-11-14T02:24:03.587913Z"
    }
   },
   "outputs": [
    {
     "name": "stdout",
     "output_type": "stream",
     "text": [
      "In groves where ancient whispers weave,\n",
      "The olive trees their secrets leave.\n",
      "With branches bent by time's embrace,\n",
      "They offer gifts of peace and grace.\n",
      "\n",
      "Their fruits, like gems in twilight's glow,\n",
      "Hold stories from the lands below.\n",
      "In kitchens\n"
     ]
    }
   ],
   "source": [
    "response = short_model.complete(\"Write a short poem on the importance of olives in modern society.\")\n",
    "print(response.text)"
   ]
  },
  {
   "cell_type": "markdown",
   "id": "38ca5cbbd25d9b65",
   "metadata": {},
   "source": [
    "Prompt with a restrictive output length."
   ]
  },
  {
   "cell_type": "code",
   "execution_count": 11,
   "id": "e919b80c59b29680",
   "metadata": {
    "ExecuteTime": {
     "end_time": "2024-11-14T02:25:50.692558Z",
     "start_time": "2024-11-14T02:25:49.817503Z"
    }
   },
   "outputs": [
    {
     "name": "stdout",
     "output_type": "stream",
     "text": [
      "Olives play a crucial role in modern society, offering health benefits through their rich nutrients and antioxidants. They are essential in culinary traditions, contributing to diverse cuisines and supporting agricultural economies globally.\n"
     ]
    }
   ],
   "source": [
    "short_model = AzureOpenAI(model=\"gpt-4o\", engine=\"gpt-4o\", max_tokens=50)\n",
    "response = short_model.complete(\"Write a 30 word essay on the importance of olives in modern society.\")\n",
    "print(response.text)"
   ]
  },
  {
   "cell_type": "markdown",
   "id": "3f2ae6944c78a3c1",
   "metadata": {},
   "source": [
    "### Temperature"
   ]
  },
  {
   "cell_type": "markdown",
   "id": "fe5181ace70a3653",
   "metadata": {},
   "source": [
    "Temperature controls the degree of randomness in token selection. Higher temperatures result in a higher number of candidate tokens from which the next output token is selected, and can produce more diverse results, while lower temperatures have the opposite effect, such that a temperature of 0 results in greedy decoding, selecting the most probable token at each step.\n",
    "\n",
    "Temperature is processed by scaling the logist before the softmax operation.\n",
    "The standard softmax function without temperature:\n",
    "$$P(z_i) = \\frac{e^{z_i}}{\\sum_{j=1}^{n} e^{z_j}}$$\n",
    "where $z_i$ is the logit of the $i$-th token.\n",
    "\n",
    "**Temperature-Scaled Softmax** with temperature $T$:\n",
    "$$P(z_i) = \\frac{e^{z_i/T}}{\\sum_{j=1}^{n} e^{z_j/T}}$$\n",
    "\n",
    "**The best practice**\n",
    "   - coding: $T: 0.2 - 0.3$\n",
    "   - Q&A: $T: 0.3 - 0.5$\n",
    "   - creative writing: $T: 0.7-0.9$\n",
    "\n"
   ]
  },
  {
   "cell_type": "code",
   "execution_count": 16,
   "id": "4537975cd80638bd",
   "metadata": {
    "ExecuteTime": {
     "end_time": "2024-11-14T05:05:50.615398Z",
     "start_time": "2024-11-14T05:05:49.117363Z"
    }
   },
   "outputs": [
    {
     "name": "stdout",
     "output_type": "stream",
     "text": [
      "Turquoise.\n",
      "-------------------------\n",
      "Azure\n",
      "-------------------------\n",
      "Cerulean\n",
      "-------------------------\n",
      "Azure\n",
      "-------------------------\n",
      "Turquoise\n",
      "-------------------------\n"
     ]
    }
   ],
   "source": [
    "# When running lots of queries, it's a good practice to use a retry policy so your code. Add retry and timeout parameters to the model initialization.\n",
    "# OpenAI temperature parameter is between 0 and 1\n",
    "high_temp_model = AzureOpenAI(model=\"gpt-4o\", \n",
    "                              engine=\"gpt-4o\", \n",
    "                              temperature=1, \n",
    "                              retry=3,\n",
    "                              timeout=10)\n",
    "\n",
    "for _ in range(5):\n",
    "    response = high_temp_model.complete(\"Pick a random colour... (respond in a single word)\")\n",
    "    print(response.text)\n",
    "    print('-' * 25)"
   ]
  },
  {
   "cell_type": "code",
   "execution_count": 17,
   "id": "5d194e64e9103054",
   "metadata": {
    "ExecuteTime": {
     "end_time": "2024-11-14T05:06:40.455002Z",
     "start_time": "2024-11-14T05:06:31.234704Z"
    }
   },
   "outputs": [
    {
     "name": "stdout",
     "output_type": "stream",
     "text": [
      "Turquoise\n",
      "-------------------------\n",
      "Turquoise\n",
      "-------------------------\n",
      "Turquoise\n",
      "-------------------------\n",
      "Turquoise\n",
      "-------------------------\n",
      "Turquoise\n",
      "-------------------------\n"
     ]
    }
   ],
   "source": [
    "# try with a lower temperature\n",
    "low_temp_model = AzureOpenAI(model=\"gpt-4o\", \n",
    "                             engine=\"gpt-4o\", \n",
    "                             temperature=0,\n",
    "                             retry=3,\n",
    "                             timeout=10)\n",
    "for _ in range(5):\n",
    "    response = low_temp_model.complete(\"Pick a random colour... (respond in a single word)\")\n",
    "    print(response.text)\n",
    "    print('-' * 25)"
   ]
  },
  {
   "cell_type": "markdown",
   "id": "581c2cc45bb434f0",
   "metadata": {},
   "source": []
  },
  {
   "cell_type": "markdown",
   "id": "821f73c4a0c01a50",
   "metadata": {},
   "source": [
    "### Top-K and top-P\n",
    "\n",
    "Like temperature, top-K and top-P parameters are also used to control the diversity of the model's output.\n",
    "\n",
    "Top-K is a positive integer that defines the number of most probable tokens from which to select the output token. A top-K of 1 selects a single token, performing greedy decoding.\n",
    "\n",
    "Top-P defines the probability threshold that, once cumulatively exceeded, tokens stop being selected as candidates. A top-P of 0 is typically equivalent to greedy decoding, and a top-P of 1 typically selects every token in the model's vocabulary.\n",
    "\n",
    "When both are supplied, the Gemini API will filter top-K tokens first, then top-P and then finally sample from the candidate tokens using the supplied temperature."
   ]
  },
  {
   "cell_type": "code",
   "execution_count": 20,
   "id": "a5732979d1cfa433",
   "metadata": {
    "ExecuteTime": {
     "end_time": "2024-11-14T05:15:53.591772Z",
     "start_time": "2024-11-14T05:15:41.446351Z"
    }
   },
   "outputs": [
    {
     "name": "stdout",
     "output_type": "stream",
     "text": [
      "Once upon a time in the quaint village of Whiskerbell, where the cobblestone streets twisted like a forgotten fairy tale, there lived a curious cat named Oliver. Oliver was not an ordinary cat; he was an adventurer at heart. With his fur as white as freshly fallen snow and his emerald eyes sparkling like hidden treasures, Oliver had an insatiable curiosity for the world beyond his cozy home.\n",
      "\n",
      "Oliver lived with an elderly woman named Miss Beatrix, who often recounted tales of her own youthful escapades. Each night, as the fire crackled and cast dancing shadows on the walls, she would whisper stories of far-off lands and mysterious creatures. These stories stirred something deep within Oliver, and he longed to forge his own path to adventure.\n",
      "\n",
      "One crisp morning, as the first rays of sunlight kissed the rooftops of Whiskerbell, Oliver made up his mind. With a determined flick of his tail, he slipped through the slightly ajar door and into the world beyond.\n",
      "\n",
      "He trotted down the winding streets, past blooming gardens and bustling markets. As he ventured further, Oliver found himself at the edge of the village, where an ancient forest beckoned him with its whispering leaves. With a purr of excitement, he stepped into the verdant embrace of the woods.\n",
      "\n",
      "The forest was a place of magic and mystery. Golden rays of sunlight broke through the dense canopy, casting enchanting patterns on the forest floor. Oliver navigated the undergrowth with grace, following the melodies of singing birds and the scent of wildflowers.\n",
      "\n",
      "As he wandered deeper, he stumbled upon a babbling brook, its clear waters sparkling like liquid diamonds. He paused to drink, letting the refreshing water rejuvenate his spirit. Suddenly, a gentle rustle caught his attention. Oliver's ears perked up, and he turned to see a small fox watching him with curious amber eyes.\n",
      "\n",
      "\"Who are you?\" asked the fox, tilting her head.\n",
      "\n",
      "\"I'm Oliver, from Whiskerbell,\" he replied. \"I'm on an adventure.\"\n",
      "\n",
      "The fox's eyes twinkled. \"I’m Lila. Welcome, Oliver. Perhaps I can join you on your quest?\"\n",
      "\n",
      "Oliver gladly accepted Lila's company, and the two set off together. They crossed the brook and ventured into a part of the forest that was said to be enchanted. The trees grew taller and the air shimmered with a mystical energy.\n",
      "\n",
      "In the heart of the forest, they discovered a massive, ancient tree with a door carved into its trunk. Intrigued, Oliver and Lila cautiously pushed open the door and found themselves in a hidden grove bathed in ethereal light. At the center stood a majestic stag, his antlers adorned with glowing crystals.\n",
      "\n",
      "\"Welcome, travelers,\" the stag spoke with a voice that echoed like the wind through the trees. \"I am Eldric, the guardian of this forest. Few ever find their way here. What is it you seek?\"\n",
      "\n",
      "Oliver and Lila exchanged glances, realizing this was more than they had ever imagined. \"We seek adventure and to learn the secrets of the world,\" Oliver answered.\n",
      "\n",
      "Eldric nodded. \"To seek the unknown is a noble quest. Here is your first gift— the gift of wisdom.\" With a soft glow, a tiny crystal detached from his antlers and floated toward Oliver. \"This will guide you on your journey.\"\n",
      "\n",
      "Oliver and Lila thanked Eldric and continued their adventure with newfound determination. They learned the language of the birds, the secrets of the stars, and the songs of the trees. Along the way, they faced many challenges, from crossing treacherous ravines to outsmarting mischievous forest sprites. But with each trial, Oliver grew wiser and more resilient.\n",
      "\n",
      "After many moons and countless tales of bravery, Oliver and Lila returned to Whiskerbell. They were greeted as heroes, and Miss Beatrix's eyes sparkled with pride. Oliver, now a seasoned adventurer, regaled the villagers with stories of his journeys, inspiring a new generation to seek their own adventures.\n",
      "\n",
      "And so, the curious cat who once longed for the world beyond his home had not only found it but had also created a legacy of wonder and exploration. Whiskerbell thrived on these tales, forever changed by the spirit of adventure that Oliver had kindled. Legend has it that on nights when the moon is full, the spirit of Oliver can still be seen, his emerald eyes shining brightly as he continues his endless quest for discovery.\n"
     ]
    }
   ],
   "source": [
    "model = AzureOpenAI(model=\"gpt-4o\", \n",
    "                    engine=\"gpt-4o\", \n",
    "                    temperature=1.0,\n",
    "                    max_retries=3,\n",
    "                    timeout=300,\n",
    "                    top_k=64, \n",
    "                    top_p=0.95)\n",
    "response = model.complete(\"You are a creative writer. Write a short story about a cat who goes on an adventure.\")\n",
    "print(response.text)"
   ]
  },
  {
   "cell_type": "code",
   "execution_count": 22,
   "id": "6ee35d0dbf50cbfe",
   "metadata": {
    "ExecuteTime": {
     "end_time": "2024-11-14T05:19:06.777569Z",
     "start_time": "2024-11-14T05:18:56.812816Z"
    }
   },
   "outputs": [
    {
     "name": "stdout",
     "output_type": "stream",
     "text": [
      "Once upon a time, in a quaint little village nestled between rolling hills and whispering forests, lived a curious cat named Whiskers. Whiskers was no ordinary cat; he had a heart full of wanderlust and a spirit that yearned for adventure. His sleek, black fur and piercing green eyes made him a striking figure, but it was his insatiable curiosity that truly set him apart.\n",
      "\n",
      "One crisp autumn morning, as the golden leaves danced in the breeze, Whiskers decided it was time to explore beyond the familiar cobblestone streets and cozy cottages of his village. He had heard tales of a magical forest that lay just beyond the hills, a place where the trees whispered secrets and the streams sang lullabies. With a determined flick of his tail, Whiskers set off on his grand adventure.\n",
      "\n",
      "As he ventured deeper into the forest, the air grew cooler and the light dimmer. The trees, tall and ancient, seemed to watch him with knowing eyes. Whiskers trotted along a winding path, his ears perked up and his whiskers twitching with excitement. Suddenly, he heard a soft rustling in the underbrush. Out popped a small, timid rabbit with fur as white as snow.\n",
      "\n",
      "\"Hello there,\" Whiskers greeted the rabbit with a friendly purr. \"I'm Whiskers, and I'm on an adventure. Would you like to join me?\"\n",
      "\n",
      "The rabbit, whose name was Thistle, hesitated for a moment before nodding. \"I've always wanted to see the Enchanted Glade,\" Thistle admitted. \"But I've been too scared to go alone.\"\n",
      "\n",
      "Together, Whiskers and Thistle continued their journey, forging a bond of friendship as they navigated the forest's many wonders. They crossed a sparkling stream on stepping stones, where Whiskers caught a glimpse of his reflection and Thistle marveled at the fish darting beneath the surface. They climbed a hill covered in wildflowers, where the scent of lavender and honey filled the air.\n",
      "\n",
      "As the sun began to set, casting a warm, golden glow over the forest, they finally reached the Enchanted Glade. It was a place of breathtaking beauty, with trees that shimmered like silver and flowers that glowed softly in the twilight. In the center of the glade stood a majestic oak tree, its branches stretching towards the sky like welcoming arms.\n",
      "\n",
      "Whiskers and Thistle approached the oak tree, feeling a sense of awe and wonder. Suddenly, the tree began to speak in a deep, gentle voice. \"Welcome, brave travelers,\" it said. \"You have shown great courage and friendship on your journey. As a reward, I grant you each a gift.\"\n",
      "\n",
      "From the oak tree's branches, two shimmering leaves floated down. Whiskers' leaf turned into a golden collar that granted him the ability to understand and speak with all animals. Thistle's leaf transformed into a delicate necklace that gave her the courage to explore the world without fear.\n",
      "\n",
      "With their new gifts, Whiskers and Thistle returned to their village, where they shared their incredible adventure with their friends and neighbors. Whiskers became known as the village's greatest explorer, always ready to embark on a new journey and make new friends. Thistle, now brimming with confidence, became a beloved storyteller, enchanting everyone with tales of their magical adventure.\n",
      "\n",
      "And so, Whiskers and Thistle lived happily ever after, their hearts forever filled with the magic of the Enchanted Glade and the joy of their unbreakable friendship.\n"
     ]
    }
   ],
   "source": [
    "# try with a lower top-k and top-p\n",
    "model = AzureOpenAI(model=\"gpt-4o\", \n",
    "                    engine=\"gpt-4o\", \n",
    "                    temperature=0,\n",
    "                    max_retries=3,\n",
    "                    timeout=300,\n",
    "                    top_k=1, \n",
    "                    top_p=0)\n",
    "response = model.complete(\"You are a creative writer. Write a short story about a cat who goes on an adventure.\")\n",
    "print(response.text)"
   ]
  },
  {
   "cell_type": "markdown",
   "id": "823b837601428ffc",
   "metadata": {},
   "source": [
    "## Prompting\n",
    "\n",
    "This section contains some prompts from the chapter for you to try out directly in the API. Try changing the text here to see how each prompt performs with different instructions, more examples, or any other changes you can think of."
   ]
  },
  {
   "cell_type": "markdown",
   "id": "e0f0534b244bf33",
   "metadata": {},
   "source": [
    "### Zero-shot\n",
    "\n",
    "Zero-shot prompts are prompts that describe the request for the model directly."
   ]
  },
  {
   "cell_type": "code",
   "execution_count": 71,
   "id": "70ab96f31c3a1d7e",
   "metadata": {
    "ExecuteTime": {
     "end_time": "2024-11-14T07:53:58.811297Z",
     "start_time": "2024-11-14T07:53:58.263581Z"
    }
   },
   "outputs": [
    {
     "name": "stdout",
     "output_type": "stream",
     "text": [
      "Sentiment: POSITIVE\n"
     ]
    }
   ],
   "source": [
    "model = AzureOpenAI(\n",
    "    model=\"gpt-4o\",\n",
    "    engine=\"gpt-4o\",\n",
    "    temperature=0.1,\n",
    "    top_p=1,\n",
    "    max_tokens=10,\n",
    ")\n",
    "zero_shot_prompt = \"\"\"Classify movie reviews as POSITIVE, NEUTRAL or NEGATIVE.\n",
    "Review: \"Her\" is a disturbing study revealing the direction\n",
    "humanity is headed if AI is allowed to keep evolving,\n",
    "unchecked. I wish there were more movies like this masterpiece.\n",
    "Sentiment: \"\"\"\n",
    "response = model.complete(zero_shot_prompt)\n",
    "print(response.text)"
   ]
  },
  {
   "cell_type": "markdown",
   "id": "368c756e1e75543e",
   "metadata": {},
   "source": [
    "#### Enum Output Parsing\n",
    "\n",
    "The models are trained to generate text, and can sometimes produce more text than you may wish for. In the preceding example, the model will output the label, sometimes it can include a preceding \"Sentiment\" label, and without an output token limit, it may also add explanatory text afterward.\n",
    "\n",
    "For enum-based output parsing, we'll use LlamaIndex's OpenAIPydanticProgram which can handle enums through Pydantic models."
   ]
  },
  {
   "cell_type": "code",
   "execution_count": 81,
   "id": "602c11d3ca30c13f",
   "metadata": {
    "ExecuteTime": {
     "end_time": "2024-11-14T07:56:47.825565Z",
     "start_time": "2024-11-14T07:56:45.841086Z"
    }
   },
   "outputs": [
    {
     "name": "stdout",
     "output_type": "stream",
     "text": [
      "Function call: SentimentResponse with args: {\"sentiment\":\"positive\"}\n",
      "positive\n"
     ]
    }
   ],
   "source": [
    "class sentiment_enum(str, Enum):\n",
    "    POSITIVE = \"positive\"\n",
    "    NEUTRAL = \"neutral\"\n",
    "    NEGATIVE = \"negative\"\n",
    "    \n",
    "class SentimentResponse(BaseModel):\n",
    "    sentiment: sentiment_enum\n",
    "\n",
    "response = OpenAIPydanticProgram.from_defaults(\n",
    "    output_cls=SentimentResponse,\n",
    "    prompt_template_str=\"Classify movie reviews as POSITIVE, NEUTRAL or NEGATIVE.\\nReview: {review}\",\n",
    "    llm=model,\n",
    "    verbose=True,\n",
    ")\n",
    "output = response(review=\"\"\"  \"Her\" is a disturbing study revealing the direction\n",
    "humanity is headed if AI is allowed to keep evolving,\n",
    "unchecked. I wish there were more movies like this masterpiece.\n",
    " poSentiment:\"\"\", description='sentiment')\n",
    "print(output.sentiment.value)"
   ]
  },
  {
   "cell_type": "markdown",
   "id": "8d89b7327464a5a2",
   "metadata": {},
   "source": [
    "### One-shot and few-shot\n",
    "\n",
    "Providing an example of the expected response is known as a \"one-shot\" prompt. When you provide multiple examples, it is a \"few-shot\" prompt."
   ]
  },
  {
   "cell_type": "code",
   "execution_count": 83,
   "id": "e7ecced95853997",
   "metadata": {
    "ExecuteTime": {
     "end_time": "2024-11-14T08:29:55.024636Z",
     "start_time": "2024-11-14T08:29:53.120994Z"
    }
   },
   "outputs": [
    {
     "name": "stdout",
     "output_type": "stream",
     "text": [
      "```\n",
      "{\n",
      "  \"size\": \"large\",\n",
      "  \"type\": \"normal\",\n",
      "  \"ingredients\": [\"cheese\", \"pineapple\"]\n",
      "}\n",
      "```\n"
     ]
    }
   ],
   "source": [
    "llm = AzureOpenAI(\n",
    "    model=\"gpt-4o\",\n",
    "    engine=\"gpt-4o\",\n",
    "    temperature=0.1,\n",
    "    top_p=1,\n",
    "    max_tokens=250,\n",
    ")\n",
    "prompt = \"\"\"\n",
    "Parse a customer's pizza order into valid JSON:\n",
    "\n",
    "EXAMPLE:\n",
    "I want a small pizza with cheese, tomato sauce, and pepperoni.\n",
    "JSON Response:\n",
    "```\n",
    "{\n",
    "\"size\": \"small\",\n",
    "\"type\": \"normal\",\n",
    "\"ingredients\": [\"cheese\", \"tomato sauce\", \"peperoni\"]\n",
    "}\n",
    "```\n",
    "\n",
    "EXAMPLE:\n",
    "Can I get a large pizza with tomato sauce, basil and mozzarella\n",
    "JSON Response:\n",
    "```\n",
    "{\n",
    "\"size\": \"large\",\n",
    "\"type\": \"normal\",\n",
    "\"ingredients\": [\"tomato sauce\", \"basil\", \"mozzarella\"]\n",
    "}\n",
    "\n",
    "ORDER: Give me a large with cheese & pineapple\n",
    "\"\"\"\n",
    "response = llm.complete(prompt)\n",
    "print(response.text)"
   ]
  },
  {
   "cell_type": "markdown",
   "id": "b92e05b6912930c0",
   "metadata": {},
   "source": [
    "#### Json Output\n",
    "\n",
    "\n",
    "We can parse the output JSON using Pydantic models."
   ]
  },
  {
   "cell_type": "code",
   "execution_count": 93,
   "id": "42dc0578a4aaa93f",
   "metadata": {
    "ExecuteTime": {
     "end_time": "2024-11-14T08:38:39.472318Z",
     "start_time": "2024-11-14T08:38:37.879434Z"
    }
   },
   "outputs": [
    {
     "name": "stdout",
     "output_type": "stream",
     "text": [
      "Function call: PizzaOrder with args: {\"size\":\"large\",\"type\":\"dessert\",\"ingredients\":[\"apple\",\"chocolate\"]}\n"
     ]
    },
    {
     "data": {
      "text/plain": [
       "{'size': 'large', 'type': 'dessert', 'ingredients': ['apple', 'chocolate']}"
      ]
     },
     "execution_count": 93,
     "metadata": {},
     "output_type": "execute_result"
    }
   ],
   "source": [
    "class PizzaOrder(BaseModel):\n",
    "    size: str\n",
    "    type: str\n",
    "    ingredients: List[str]\n",
    "    \n",
    "parse_pizza_order = OpenAIPydanticProgram.from_defaults(\n",
    "    output_cls=PizzaOrder,\n",
    "    prompt_template_str=\"\"\"Convert this pizza order into structured data with size, type, and ingredients.\\nOrder: {pizza_order}\"\"\",\n",
    "    llm=llm,\n",
    "    verbose=True,\n",
    ")\n",
    "output = parse_pizza_order(description='pizza order', pizza_order='Can I have a large dessert pizza with apple and chocolate?')\n",
    "output.dict()"
   ]
  },
  {
   "cell_type": "markdown",
   "id": "16602c4079510e34",
   "metadata": {},
   "source": [
    "### Chain of Thought (CoT)\n",
    "\n",
    "Direct prompting on LLMs can return answers quickly and (in terms of output token usage) efficiently, but they can be prone to hallucination. The answer may \"look\" correct (in terms of language and syntax) but is incorrect in terms of factuality and reasoning.\n",
    "\n",
    "Chain-of-Thought prompting is a technique where you instruct the model to output intermediate reasoning steps, and it typically gets better results, especially when combined with few-shot examples. It is worth noting that this technique doesn't completely eliminate hallucinations, and that it tends to cost more to run, due to the increased token count."
   ]
  },
  {
   "cell_type": "code",
   "execution_count": 94,
   "id": "1a7f8d81673007da",
   "metadata": {
    "ExecuteTime": {
     "end_time": "2024-11-14T08:42:08.558184Z",
     "start_time": "2024-11-14T08:42:06.593638Z"
    }
   },
   "outputs": [
    {
     "name": "stdout",
     "output_type": "stream",
     "text": [
      "When you were 4 years old, your partner was 3 times your age, which means your partner was 4 * 3 = 12 years old at that time. The difference in age between you and your partner is 12 - 4 = 8 years.\n",
      "\n",
      "Now that you are 20 years old, your partner is 20 + 8 = 28 years old.\n"
     ]
    }
   ],
   "source": [
    "prompt = \"\"\"When I was 4 years old, my partner was 3 times my age. Now, I\n",
    "am 20 years old. How old is my partner? Return the answer immediately.\"\"\"\n",
    "response = llm.complete(prompt)\n",
    "print(response.text)"
   ]
  },
  {
   "cell_type": "code",
   "execution_count": 95,
   "id": "16c97389e5446b61",
   "metadata": {
    "ExecuteTime": {
     "end_time": "2024-11-14T08:42:42.117156Z",
     "start_time": "2024-11-14T08:42:39.496029Z"
    }
   },
   "outputs": [
    {
     "name": "stdout",
     "output_type": "stream",
     "text": [
      "Sure, let's break it down step by step.\n",
      "\n",
      "1. When you were 4 years old, your partner was 3 times your age.\n",
      "   - Your age: 4 years old\n",
      "   - Your partner's age: 3 times 4 = 12 years old\n",
      "\n",
      "2. The difference in age between you and your partner is:\n",
      "   - 12 years old (partner's age) - 4 years old (your age) = 8 years\n",
      "\n",
      "3. Now, you are 20 years old.\n",
      "   - Since the age difference remains constant, your partner is:\n",
      "   - Your age (20 years) + 8 years (age difference) = 28 years old\n",
      "\n",
      "Therefore, your partner is 28 years old now.\n"
     ]
    }
   ],
   "source": [
    "prompt = \"\"\"When I was 4 years old, my partner was 3 times my age. Now,\n",
    "I am 20 years old. How old is my partner? Let's think step by step.\"\"\"\n",
    "response = llm.complete(prompt)\n",
    "print(response.text)"
   ]
  },
  {
   "attachments": {
    "ReAct.png": {
     "image/png": "[encoded data removed]"
    }
   },
   "cell_type": "markdown",
   "id": "24d14a355116845c",
   "metadata": {},
   "source": [
    "### ReAct Pattern Implementation\n",
    "![ReAct.png](attachment:ReAct.png)\n",
    "\n",
    "What is ReAct Pattern?\n",
    "ReAct (Reasoning and Acting) is a prompting strategy that combines:\n",
    "\n",
    "- Reasoning: Breaking down complex problems into steps\n",
    "- Acting: Taking specific actions based on the reasoning\n",
    "- Observation: Recording results from actions\n",
    "- Final Answer: Providing conclusions based on the process\n",
    "\n",
    "This pattern is particularly useful for:\n",
    "- Complex problem-solving that requires multiple steps\n",
    "- Tasks that need both analysis and information gathering\n",
    "- Situations where showing work is as important as the final answer\n",
    "\n",
    "> Note: The prompt and in-context examples used here are from [https://github.com/ysymyth/ReAct](https://github.com/ysymyth/ReAct) which is published under a [MIT license](https://opensource.org/licenses/MIT), Copyright (c) 2023 Shunyu Yao.\n",
    "\n",
    "<table align=left>\n",
    "  <td>\n",
    "    <a target=\"_blank\" href=\"https://aistudio.google.com/prompts/18oo63Lwosd-bQ6Ay51uGogB3Wk3H8XMO\"><img src=\"https://ai.google.dev/site-assets/images/marketing/home/icon-ais.png\" style=\"height: 24px\" height=24/> Open in AI Studio</a>\n",
    "  </td>\n",
    "</table>\n"
   ]
  },
  {
   "cell_type": "code",
   "execution_count": 6,
   "id": "e051aa4e4ebdcdd3",
   "metadata": {},
   "outputs": [],
   "source": [
    "model_instructions = \"\"\"\n",
    "Solve a question answering task with interleaving Thought, Action, Observation steps. Thought can reason about the current situation,\n",
    "Observation is understanding relevant information from an Action's output and Action can be one of three types:\n",
    " (1) <search>entity</search>, which searches the exact entity on Wikipedia and returns the first paragraph if it exists. If not, it\n",
    "     will return some similar entities to search and you can try to search the information from those topics.\n",
    " (2) <lookup>keyword</lookup>, which returns the next sentence containing keyword in the current context. This only does exact matches,\n",
    "     so keep your searches short.\n",
    " (3) <finish>answer</finish>, which returns the answer and finishes the task.\n",
    "\"\"\"\n",
    "\n",
    "example1 = \"\"\"Question\n",
    "Musician and satirist Allie Goertz wrote a song about the \"The Simpsons\" character Milhouse, who Matt Groening named after who?\n",
    "\n",
    "Thought 1\n",
    "The question simplifies to \"The Simpsons\" character Milhouse is named after who. I only need to search Milhouse and find who it is named after.\n",
    "\n",
    "Action 1\n",
    "<search>Milhouse</search>\n",
    "\n",
    "Observation 1\n",
    "Milhouse Mussolini Van Houten is a recurring character in the Fox animated television series The Simpsons voiced by Pamela Hayden and created by Matt Groening.\n",
    "\n",
    "Thought 2\n",
    "The paragraph does not tell who Milhouse is named after, maybe I can look up \"named after\".\n",
    "\n",
    "Action 2\n",
    "<lookup>named after</lookup>\n",
    "\n",
    "Observation 2\n",
    "Milhouse was named after U.S. president Richard Nixon, whose middle name was Milhous.\n",
    "\n",
    "Thought 3\n",
    "Milhouse was named after U.S. president Richard Nixon, so the answer is Richard Nixon.\n",
    "\n",
    "Action 3\n",
    "<finish>Richard Nixon</finish>\n",
    "\"\"\"\n",
    "\n",
    "example2 = \"\"\"Question\n",
    "What is the elevation range for the area that the eastern sector of the Colorado orogeny extends into?\n",
    "\n",
    "Thought 1\n",
    "I need to search Colorado orogeny, find the area that the eastern sector of the Colorado orogeny extends into, then find the elevation range of the area.\n",
    "\n",
    "Action 1\n",
    "<search>Colorado orogeny</search>\n",
    "\n",
    "Observation 1\n",
    "The Colorado orogeny was an episode of mountain building (an orogeny) in Colorado and surrounding areas.\n",
    "\n",
    "Thought 2\n",
    "It does not mention the eastern sector. So I need to look up eastern sector.\n",
    "\n",
    "Action 2\n",
    "<lookup>eastern sector</lookup>\n",
    "\n",
    "Observation 2\n",
    "The eastern sector extends into the High Plains and is called the Central Plains orogeny.\n",
    "\n",
    "Thought 3\n",
    "The eastern sector of Colorado orogeny extends into the High Plains. So I need to search High Plains and find its elevation range.\n",
    "\n",
    "Action 3\n",
    "<search>High Plains</search>\n",
    "\n",
    "Observation 3\n",
    "High Plains refers to one of two distinct land regions\n",
    "\n",
    "Thought 4\n",
    "I need to instead search High Plains (United States).\n",
    "\n",
    "Action 4\n",
    "<search>High Plains (United States)</search>\n",
    "\n",
    "Observation 4\n",
    "The High Plains are a subregion of the Great Plains. From east to west, the High Plains rise in elevation from around 1,800 to 7,000 ft (550 to 2,130m).\n",
    "\n",
    "Thought 5\n",
    "High Plains rise in elevation from around 1,800 to 7,000 ft, so the answer is 1,800 to 7,000 ft.\n",
    "\n",
    "Action 5\n",
    "<finish>1,800 to 7,000 ft</finish>\n",
    "\"\"\"\n",
    "\n",
    "# Come up with more examples yourself, or take a look through https://github.com/ysymyth/ReAct/"
   ]
  },
  {
   "cell_type": "code",
   "execution_count": 10,
   "id": "6bc2915d",
   "metadata": {},
   "outputs": [
    {
     "name": "stdout",
     "output_type": "stream",
     "text": [
      "Thought 1\n",
      "I need to search for the Transformers NLP paper and find the list of authors. Once I have the list, I can determine who the youngest author is.\n",
      "\n",
      "Action 1\n",
      "<search>Transformers NLP paper</search>\n",
      "\n",
      "Observation 1\n",
      "\"Attention Is All You Need\" is the title of the paper that introduced the Transformer model. The authors listed on the paper are Ashish Vaswani, Noam Shazeer, Niki Parmar, Jakob Uszkoreit, Llion Jones, Aidan N. Gomez, Lukasz Kaiser, and Illia Polosukhin.\n",
      "\n",
      "Thought 2\n",
      "I have the list of authors from the Transformers NLP paper. Now, I need to determine who the youngest author is. I will search for the birth dates or ages of each author to find out who is the youngest.\n",
      "\n",
      "Action 2\n",
      "<search>Ashish Vaswani birth date</search>\n",
      "\n",
      "Observation 2\n",
      "There is no specific information on Ashish Vaswani’s birth date readily available.\n",
      "\n",
      "Thought 3\n",
      "Since the birth date for Ashish Vaswani is not readily available, I will proceed by searching the birth dates or ages of the other authors to see if any information is available for them.\n",
      "\n",
      "Action 3\n",
      "<search>Noam Shazeer birth date</search>\n",
      "\n",
      "Observation 3\n",
      "Noam Shazeer's birth date is not readily available.\n",
      "\n",
      "Thought 4\n",
      "Since I did not find the birth date for Noam Shazeer, I will now search for the next author on the list.\n",
      "\n",
      "Action 4\n",
      "<search>Niki Parmar birth date</search>\n",
      "\n",
      "Observation 4\n",
      "Niki Parmar's birth date is not readily available.\n",
      "\n",
      "Thought 5\n",
      "I will continue by searching for the next author on the list.\n",
      "\n",
      "Action 5\n",
      "<search>Jakob Uszkoreit birth date</search>\n",
      "\n",
      "Observation 5\n",
      "Jakob Uszkoreit's birth date is not readily available.\n",
      "\n",
      "Thought 6\n",
      "I will continue by searching for the next author on the list.\n",
      "\n",
      "Action 6\n",
      "<search>Llion Jones birth date</search>\n",
      "\n",
      "Observation 6\n",
      "Llion Jones' birth date is not readily available.\n",
      "\n",
      "Thought 7\n",
      "I will continue by searching for the next author on the list.\n",
      "\n",
      "Action 7\n",
      "<search>Aidan N. Gomez birth date</search>\n",
      "\n",
      "Observation 7\n",
      "Aidan N. Gomez's birth date is not readily available.\n",
      "\n",
      "Thought 8\n",
      "I will continue by searching for the next author on the list.\n",
      "\n",
      "Action 8\n",
      "<search>Lukasz Kaiser birth date</search>\n",
      "\n",
      "Observation 8\n",
      "Lukasz Kaiser's birth date is not readily available.\n",
      "\n",
      "Thought 9\n",
      "I will continue by searching for the next author on the list.\n",
      "\n",
      "Action 9\n",
      "<search>Illia Polosukhin birth date</search>\n",
      "\n",
      "Observation 9\n",
      "Illia Polosukhin's birth date is not readily available.\n",
      "\n",
      "Thought 10\n",
      "Since none of the birth dates or ages of the authors are readily available, it is not possible to determine the youngest author with the information accessible. \n",
      "\n",
      "Action 10\n",
      "<finish>Not enough information to determine the youngest author</finish>\n"
     ]
    }
   ],
   "source": [
    "# Create the prompt template\n",
    "prompt = PromptTemplate(\n",
    "    template=\"\"\"\n",
    "Solve the question by following the instructions below:\n",
    "{model_instructions}\n",
    "There are two examples below to help you understand the format:\n",
    "Example 1:\n",
    "{example1}\n",
    "Example 2:\n",
    "{example2}\n",
    "Question: {question}\n",
    "\"\"\")\n",
    "\n",
    "# Format the prompt using the format method\n",
    "formatted_prompt = prompt.format(\n",
    "    model_instructions=model_instructions,\n",
    "    example1=example1,\n",
    "    example2=example2,\n",
    "    question=\"Who was the youngest author listed on the transformers NLP paper?\"\n",
    ")\n",
    "\n",
    "response = llm.complete(formatted_prompt)\n",
    "print(response.text)"
   ]
  },
  {
   "cell_type": "markdown",
   "id": "6c458433",
   "metadata": {},
   "source": [
    "## Code Prompting"
   ]
  },
  {
   "cell_type": "code",
   "execution_count": 11,
   "id": "e9b7f324",
   "metadata": {},
   "outputs": [
    {
     "name": "stdout",
     "output_type": "stream",
     "text": [
      "```python\n",
      "def factorial(n):\n",
      "    if n == 0:\n",
      "        return 1\n",
      "    else:\n",
      "        return n * factorial(n-1)\n",
      "```\n"
     ]
    }
   ],
   "source": [
    "llm = AzureOpenAI(\n",
    "    model=\"gpt-4o\",\n",
    "    engine=\"gpt-4o\",\n",
    "    temperature=1,\n",
    "    top_p=1,\n",
    "    max_tokens=1024,\n",
    ")\n",
    "\n",
    "code_prompt = \"\"\"\n",
    "Write a Python function to calculate the factorial of a number. No explanation, provide only the code.\n",
    "\"\"\"\n",
    "response = llm.complete(code_prompt)\n",
    "print(response.text)"
   ]
  },
  {
   "cell_type": "markdown",
   "id": "a62645e6",
   "metadata": {},
   "source": [
    "Azure OpenAI cannot automatically run generated code. "
   ]
  }
 ],
 "metadata": {
  "kernelspec": {
   "display_name": "llm",
   "language": "python",
   "name": "python3"
  },
  "language_info": {
   "codemirror_mode": {
    "name": "ipython",
    "version": 3
   },
   "file_extension": ".py",
   "mimetype": "text/x-python",
   "name": "python",
   "nbconvert_exporter": "python",
   "pygments_lexer": "ipython3",
   "version": "3.10.14"
  }
 },
 "nbformat": 4,
 "nbformat_minor": 5
}
