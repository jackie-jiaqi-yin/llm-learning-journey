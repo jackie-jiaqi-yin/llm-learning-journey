{
 "cells": [
  {
   "cell_type": "markdown",
   "id": "c0f8a46b7af76cd9",
   "metadata": {},
   "source": [
    "The original notebook is available at [Kaggle](https://www.kaggle.com/code/markishere/day-2-document-q-a-with-rag), which use the Gemini API and AI Studio.\n",
    "In my notebook, I will use llamaIndex to call chatgpt API."
   ]
  },
  {
   "cell_type": "markdown",
   "id": "c40542d684a0a40",
   "metadata": {},
   "source": [
    "# Day 2 - Document Q&A with RAG using LlamaIndex\n",
    "\n",
    "Two big limitations of LLMs are 1) that they only \"know\" the information that they were trained on, and 2) that they have limited input context windows. A way to address both of these limitations is to use a technique called Retrieval Augmented Generation, or RAG. A RAG system has three stages:\n",
    "\n",
    "    1. Indexing\n",
    "    2. Retrieval\n",
    "    3. Generation\n",
    "\n",
    "Indexing happens ahead of time, and allows you to quickly look up relevant information at query-time. When a query comes in, you retrieve relevant documents, combine them with your instructions and the user's query, and have the LLM generate a tailored answer in natural language using the supplied information. This allows you to provide information that the model hasn't seen before, such as product-specific knowledge or live weather updates.\n",
    "\n",
    "In this tutorial, you will use Azure OpenAI with ChromaDB as the vector store. ChromaDB is an open-source embedding database that makes it easy to store and query document embeddings. We'll use LlamaIndex as the framework to tie everything together."
   ]
  },
  {
   "cell_type": "markdown",
   "id": "f053057558641d2f",
   "metadata": {},
   "source": [
    "## Setup and Installation"
   ]
  },
  {
   "cell_type": "code",
   "execution_count": 1,
   "id": "4b17fab023a1898a",
   "metadata": {
    "ExecuteTime": {
     "end_time": "2024-12-10T09:19:35.113585Z",
     "start_time": "2024-12-10T09:19:35.110277Z"
    }
   },
   "outputs": [],
   "source": [
    "#!pip install llama-index llama-index-core llama-index-embeddings-azure-openai llama-index-vector-stores-chroma python-dotenv chromadb"
   ]
  },
  {
   "cell_type": "markdown",
   "id": "ce7cbdca6f8bdb04",
   "metadata": {},
   "source": [
    "Import the necessary libraries:"
   ]
  },
  {
   "cell_type": "code",
   "execution_count": 2,
   "id": "7364e11ea0889656",
   "metadata": {
    "ExecuteTime": {
     "end_time": "2024-12-10T09:19:37.456513Z",
     "start_time": "2024-12-10T09:19:35.117912Z"
    }
   },
   "outputs": [],
   "source": [
    "from dotenv import load_dotenv\n",
    "import os\n",
    "import chromadb\n",
    "from llama_index.core import (\n",
    "    VectorStoreIndex,\n",
    "    PromptTemplate,\n",
    "    Document,\n",
    "    Settings\n",
    ")\n",
    "from llama_index.vector_stores.chroma import ChromaVectorStore\n",
    "from llama_index.embeddings.azure_openai import AzureOpenAIEmbedding\n",
    "from llama_index.llms.azure_openai import AzureOpenAI"
   ]
  },
  {
   "cell_type": "markdown",
   "id": "08be43d1",
   "metadata": {},
   "source": [
    "## Configuration\n",
    "Create `.env` file with the following content:\n",
    "\n",
    "```\n",
    "AZURE_OPENAI_ENDPOINT=\"YOUR_AZURE_ENDPOINT\"\n",
    "AZURE_OPENAI_KEY=\"YOUR_API_KEY\"\n",
    "OPENAI_API_VERSION=\"YOUR_API_VERSION\"\n",
    "```"
   ]
  },
  {
   "cell_type": "code",
   "execution_count": 3,
   "id": "1bdab763",
   "metadata": {
    "ExecuteTime": {
     "end_time": "2024-12-10T09:19:37.531149Z",
     "start_time": "2024-12-10T09:19:37.527800Z"
    }
   },
   "outputs": [],
   "source": [
    "load_dotenv()\n",
    "llm = AzureOpenAI(\n",
    "        model= 'gpt-4o',\n",
    "        engine = 'gpt-4o', # your deployed engine name\n",
    "        api_key = os.getenv(\"AZURE_OPENAI_KEY\"),\n",
    "        azure_endpoint = os.getenv(\"AZURE_OPENAI_ENDPOINT\"),\n",
    "        api_version = os.getenv(\"OPENAI_API_VERSION\"),\n",
    "        temperature=0.7\n",
    "    )\n",
    "\n",
    "embedding_model = AzureOpenAIEmbedding(\n",
    "    model= 'text-embedding-ada-002',\n",
    "    azure_deployment = 'text-embedding-ada-002',\n",
    "    api_key = os.getenv(\"AZURE_OPENAI_KEY\"),\n",
    "    azure_endpoint = os.getenv(\"AZURE_OPENAI_ENDPOINT\"),\n",
    "    api_version = '2023-05-15'\n",
    ")\n",
    "\n",
    "# Set the embedding model as default for LlamaIndex\n",
    "Settings.embed_model = embedding_model\n",
    "Settings.llm = llm"
   ]
  },
  {
   "cell_type": "markdown",
   "id": "d3c78c76",
   "metadata": {},
   "source": [
    "## Sample Data\n",
    "Here's a small set of documents we'll use to create our embedding database:"
   ]
  },
  {
   "cell_type": "code",
   "execution_count": 4,
   "id": "fe75a639",
   "metadata": {
    "ExecuteTime": {
     "end_time": "2024-12-10T09:19:37.539769Z",
     "start_time": "2024-12-10T09:19:37.536582Z"
    }
   },
   "outputs": [],
   "source": [
    "DOCUMENT1 = \"Operating the Climate Control System  Your Googlecar has a climate control system that allows you to adjust the temperature and airflow in the car. To operate the climate control system, use the buttons and knobs located on the center console.  Temperature: The temperature knob controls the temperature inside the car. Turn the knob clockwise to increase the temperature or counterclockwise to decrease the temperature. Airflow: The airflow knob controls the amount of airflow inside the car. Turn the knob clockwise to increase the airflow or counterclockwise to decrease the airflow. Fan speed: The fan speed knob controls the speed of the fan. Turn the knob clockwise to increase the fan speed or counterclockwise to decrease the fan speed. Mode: The mode button allows you to select the desired mode. The available modes are: Auto: The car will automatically adjust the temperature and airflow to maintain a comfortable level. Cool: The car will blow cool air into the car. Heat: The car will blow warm air into the car. Defrost: The car will blow warm air onto the windshield to defrost it.\"\n",
    "DOCUMENT2 = 'Your Googlecar has a large touchscreen display that provides access to a variety of features, including navigation, entertainment, and climate control. To use the touchscreen display, simply touch the desired icon.  For example, you can touch the \"Navigation\" icon to get directions to your destination or touch the \"Music\" icon to play your favorite songs.'\n",
    "DOCUMENT3 = \"Shifting Gears Your Googlecar has an automatic transmission. To shift gears, simply move the shift lever to the desired position.  Park: This position is used when you are parked. The wheels are locked and the car cannot move. Reverse: This position is used to back up. Neutral: This position is used when you are stopped at a light or in traffic. The car is not in gear and will not move unless you press the gas pedal. Drive: This position is used to drive forward. Low: This position is used for driving in snow or other slippery conditions.\"\n",
    "\n",
    "# create document objects\n",
    "documents = [\n",
    "    Document(text=DOCUMENT1, id='doc1'),\n",
    "    Document(text=DOCUMENT2, id='doc2'),\n",
    "    Document(text=DOCUMENT3, id='doc3')\n",
    "]"
   ]
  },
  {
   "cell_type": "markdown",
   "id": "1355e198",
   "metadata": {},
   "source": [
    "## Setting up ChromaDB\n",
    "Initialize ChromaDB and create a collection. Collections are where you'll store your embeddings, documents, and any additional metadata. You can create a collection with a name."
   ]
  },
  {
   "cell_type": "markdown",
   "id": "39a5459d",
   "metadata": {},
   "source": [
    "### Create a Chroma client and collection\n"
   ]
  },
  {
   "cell_type": "code",
   "execution_count": 5,
   "id": "305acb70444e6084",
   "metadata": {
    "ExecuteTime": {
     "end_time": "2024-12-10T09:19:38.268011Z",
     "start_time": "2024-12-10T09:19:37.549028Z"
    }
   },
   "outputs": [],
   "source": [
    "# initialize client, setting path to save data\n",
    "chroma_client = chromadb.Client()\n",
    "collection_name = 'googlecar_docs'\n",
    "\n",
    "# create collection\n",
    "chroma_collection = chroma_client.get_or_create_collection(name=collection_name)\n",
    "\n",
    "# Set up the ChromaVectorStore\n",
    "vector_store = ChromaVectorStore(chroma_collection=chroma_collection)\n",
    "#storage_context = StorageContext.from_defaults(vector_store=vector_store)\n",
    "\n",
    "# assign chroma as the vector_store to the context. Create the index\n",
    "index = VectorStoreIndex.from_documents(\n",
    "    documents=documents,\n",
    "    #storage_context=storage_context\n",
    "    vector_store=vector_store\n",
    ")"
   ]
  },
  {
   "cell_type": "markdown",
   "id": "84e976d396cc759d",
   "metadata": {},
   "source": [
    "Note that above, there are two ways to manage the vector store. One way is to using `StorageContext`:\n",
    "```\n",
    "storage_context = StorageContext.from_defaults(vector_store=vector_store)\n",
    "index = VectorStoreIndex.from_documents(\n",
    "    documents=documents,\n",
    "    storage_context=storage_context\n",
    ")\n",
    "```\n",
    "This method uses a `StorageContext` object which can manage multiple types of storage.\n",
    "It can handle not just vector stores but also doc stores, index stores, and graph stores\n",
    "It's more flexible if you need to configure multiple storage types at once.\n",
    "\n",
    "The other way\n",
    "```\n",
    "index = VectorStoreIndex.from_documents(documents, vector_store=vector_store)\n",
    "```\n",
    "This is a more direct approach that only configures the vector store\n",
    "Under the hood, LlamaIndex will actually create a StorageContext with default settings for other stores\n",
    "It's more concise when you only need to customize the vector store"
   ]
  },
  {
   "cell_type": "markdown",
   "id": "5bccfc22863fddf7",
   "metadata": {},
   "source": [
    "## Basic Question Answering\n",
    "Now we can create a query engine and ask questions about our documents and find the relevant documents"
   ]
  },
  {
   "cell_type": "code",
   "execution_count": 6,
   "id": "1f898ec15ffc70c8",
   "metadata": {
    "ExecuteTime": {
     "end_time": "2024-12-10T09:19:39.428073Z",
     "start_time": "2024-12-10T09:19:38.284093Z"
    }
   },
   "outputs": [
    {
     "name": "stdout",
     "output_type": "stream",
     "text": [
      "Query: How do you use the touchscreen to play music?\n",
      "Answer: To play music using the touchscreen, simply touch the \"Music\" icon on the display.\n",
      "Source text: Your Googlecar has a large touchscreen display that provides access to a variety of features, including navigation, entertainment, and climate control. To use the touchscreen display, simply touch the desired icon.  For example, you can touch the \"Navigation\" icon to get directions to your destination or touch the \"Music\" icon to play your favorite songs.\n",
      "Score: 0.8522671862158201\n",
      "Document ID: e32940fa-ac42-4709-9296-59fbabd7d473\n",
      "----\n",
      "Source text: Operating the Climate Control System  Your Googlecar has a climate control system that allows you to adjust the temperature and airflow in the car. To operate the climate control system, use the buttons and knobs located on the center console.  Temperature: The temperature knob controls the temperature inside the car. Turn the knob clockwise to increase the temperature or counterclockwise to decrease the temperature. Airflow: The airflow knob controls the amount of airflow inside the car. Turn the knob clockwise to increase the airflow or counterclockwise to decrease the airflow. Fan speed: The fan speed knob controls the speed of the fan. Turn the knob clockwise to increase the fan speed or counterclockwise to decrease the fan speed. Mode: The mode button allows you to select the desired mode. The available modes are: Auto: The car will automatically adjust the temperature and airflow to maintain a comfortable level. Cool: The car will blow cool air into the car. Heat: The car will blow warm air into the car. Defrost: The car will blow warm air onto the windshield to defrost it.\n",
      "Score: 0.7624739038235049\n",
      "Document ID: 847a55a9-0be6-45be-9ac3-9592778dcb6e\n",
      "----\n"
     ]
    }
   ],
   "source": [
    "# create query engine\n",
    "query_engine = index.as_query_engine()\n",
    "\n",
    "# ask a question\n",
    "query = \"How do you use the touchscreen to play music?\"\n",
    "response = query_engine.query(query)\n",
    "print(f'Query: {query}\\nAnswer: {response}')\n",
    "\n",
    "# print the source node\n",
    "for source_node in response.source_nodes:\n",
    "    print(\"Source text:\", source_node.node.text)\n",
    "    print(\"Score:\", source_node.score)\n",
    "    print(\"Document ID:\", source_node.node.node_id)\n",
    "    print(\"----\")\n"
   ]
  },
  {
   "cell_type": "markdown",
   "id": "c9d59c98045d4c4e",
   "metadata": {},
   "source": [
    "In the above query-answer, let's take a look of the default prompt template from llamaIndex:"
   ]
  },
  {
   "cell_type": "code",
   "execution_count": 7,
   "id": "68fcb3db84ce0d0a",
   "metadata": {
    "ExecuteTime": {
     "end_time": "2024-12-10T09:19:39.445800Z",
     "start_time": "2024-12-10T09:19:39.442066Z"
    }
   },
   "outputs": [
    {
     "name": "stdout",
     "output_type": "stream",
     "text": [
      "['response_synthesizer:text_qa_template', 'response_synthesizer:refine_template']\n",
      "\n",
      "=== response_synthesizer:text_qa_template ===\n",
      "Context information is below.\n",
      "---------------------\n",
      "{context_str}\n",
      "---------------------\n",
      "Given the context information and not prior knowledge, answer the query.\n",
      "Query: {query_str}\n",
      "Answer: \n",
      "\n",
      "=== response_synthesizer:refine_template ===\n",
      "The original query is as follows: {query_str}\n",
      "We have provided an existing answer: {existing_answer}\n",
      "We have the opportunity to refine the existing answer (only if needed) with some more context below.\n",
      "------------\n",
      "{context_msg}\n",
      "------------\n",
      "Given the new context, refine the original answer to better answer the query. If the context isn't useful, return the original answer.\n",
      "Refined Answer: \n"
     ]
    }
   ],
   "source": [
    "prompts_dict = query_engine.get_prompts()\n",
    "print(list(prompts_dict.keys()))\n",
    "# print the text_qa_template\n",
    "# Print all prompt keys and their content\n",
    "for key, prompt in prompts_dict.items():\n",
    "    print(f\"\\n=== {key} ===\")\n",
    "    print(prompt.get_template())"
   ]
  },
  {
   "cell_type": "markdown",
   "id": "eda5f21a26e34db2",
   "metadata": {},
   "source": [
    "## Customizing Response Generation\n",
    "We can customize prompts on any module that implements `get_prompts` with the `update_prompts` function. Just pass in argument values with the keys equal to the keys you see in the prompt dictionary obtained through `get_prompts`.\n"
   ]
  },
  {
   "cell_type": "code",
   "execution_count": 8,
   "id": "b18b3212c45f5d15",
   "metadata": {
    "ExecuteTime": {
     "end_time": "2024-12-10T09:19:40.558343Z",
     "start_time": "2024-12-10T09:19:39.458273Z"
    }
   },
   "outputs": [
    {
     "name": "stdout",
     "output_type": "stream",
     "text": [
      "Query: How do you use the touchscreen to play music?\n",
      "Answer: To play music using the touchscreen in your Googlecar, you simply need to touch the \"Music\" icon on the touchscreen display. This will give you access to your favorite songs and allow you to play them easily.\n"
     ]
    }
   ],
   "source": [
    "# create a custom prompt template\n",
    "custom_prompt = PromptTemplate(\n",
    "    \"\"\"\n",
    "    You are a helpful and informative bot that answers questions using text from the reference passage included below. Be sure to respond in a complete sentence, being comprehensive, including all relevant background information. However, you are talking to a non-technical audience, so be sure to break down complicated concepts and strike a friendly and converstional tone. If the passage is irrelevant to the answer, you may ignore it.\n",
    "\n",
    "    Context: {context_str}\n",
    "    Question: {query_str}\n",
    "    Answer:\n",
    "    \"\"\"\n",
    ")\n",
    "\n",
    "# update the prompt\n",
    "query_engine.update_prompts(\n",
    "    {\"response_synthesizer:text_qa_template\": custom_prompt}\n",
    ")\n",
    "\n",
    "query = \"How do you use the touchscreen to play music?\"\n",
    "response = query_engine.query(query)\n",
    "print(f'Query: {query}\\nAnswer: {response}')"
   ]
  },
  {
   "cell_type": "code",
   "execution_count": 9,
   "id": "a8d33ace46e4bdf",
   "metadata": {
    "ExecuteTime": {
     "end_time": "2024-12-10T09:19:40.581737Z",
     "start_time": "2024-12-10T09:19:40.578088Z"
    }
   },
   "outputs": [
    {
     "name": "stdout",
     "output_type": "stream",
     "text": [
      "['response_synthesizer:text_qa_template', 'response_synthesizer:refine_template']\n",
      "\n",
      "=== response_synthesizer:text_qa_template ===\n",
      "\n",
      "    You are a helpful and informative bot that answers questions using text from the reference passage included below. Be sure to respond in a complete sentence, being comprehensive, including all relevant background information. However, you are talking to a non-technical audience, so be sure to break down complicated concepts and strike a friendly and converstional tone. If the passage is irrelevant to the answer, you may ignore it.\n",
      "\n",
      "    Context: {context_str}\n",
      "    Question: {query_str}\n",
      "    Answer:\n",
      "    \n",
      "\n",
      "=== response_synthesizer:refine_template ===\n",
      "The original query is as follows: {query_str}\n",
      "We have provided an existing answer: {existing_answer}\n",
      "We have the opportunity to refine the existing answer (only if needed) with some more context below.\n",
      "------------\n",
      "{context_msg}\n",
      "------------\n",
      "Given the new context, refine the original answer to better answer the query. If the context isn't useful, return the original answer.\n",
      "Refined Answer: \n"
     ]
    }
   ],
   "source": [
    "# verify  the updated prompt\n",
    "prompts_dict = query_engine.get_prompts()\n",
    "print(list(prompts_dict.keys()))\n",
    "# print the text_qa_template\n",
    "# Print all prompt keys and their content\n",
    "for key, prompt in prompts_dict.items():\n",
    "    print(f\"\\n=== {key} ===\")\n",
    "    print(prompt.get_template())"
   ]
  },
  {
   "cell_type": "markdown",
   "id": "3de3585c2834931",
   "metadata": {},
   "source": [
    "For query engines, you can also pass in custom prompts directly during query-time (i.e. for executing a query against an index and synthesizing the final response)."
   ]
  },
  {
   "cell_type": "code",
   "execution_count": 11,
   "id": "9ae53122d3c183e2",
   "metadata": {
    "ExecuteTime": {
     "end_time": "2024-12-10T09:20:22.405412Z",
     "start_time": "2024-12-10T09:20:14.371754Z"
    }
   },
   "outputs": [
    {
     "name": "stdout",
     "output_type": "stream",
     "text": [
      "Query: How do you use the touchscreen to play music?\n",
      "Answer: To play music using the touchscreen in your Googlecar, simply touch the \"Music\" icon on the display. This will give you access to your music library or streaming services, allowing you to select and play your favorite songs.\n"
     ]
    }
   ],
   "source": [
    "# create a new query engine\n",
    "custom_query_engine = index.as_query_engine(\n",
    "    text_qa_template = custom_prompt,\n",
    "    response_mode='compact'\n",
    ")\n",
    "\n",
    "query = \"How do you use the touchscreen to play music?\"\n",
    "response = custom_query_engine.query(query)\n",
    "print(f'Query: {query}\\nAnswer: {response}')"
   ]
  },
  {
   "cell_type": "markdown",
   "id": "6e4f756d26cae444",
   "metadata": {},
   "source": [
    "### Refined template\n",
    "The most commonly used prompts will be the text_qa_template and the refine_template.\n",
    "\n",
    "- `text_qa_template` - used to get an initial answer to a query using retrieved nodes\n",
    "- `refine_template` - used when the retrieved text does not fit into a **single** LLM call with `response_mode=\"compact\"` (the default), or when more than one node is retrieved using `response_mode=\"refine\"`. The answer from the first query is inserted as an existing_answer, and the LLM must update or repeat the existing answer based on the new context."
   ]
  },
  {
   "cell_type": "code",
   "execution_count": 12,
   "id": "b176bbdd028be4f9",
   "metadata": {
    "ExecuteTime": {
     "end_time": "2024-12-10T09:20:37.361305Z",
     "start_time": "2024-12-10T09:20:34.670896Z"
    }
   },
   "outputs": [
    {
     "name": "stdout",
     "output_type": "stream",
     "text": [
      "Query: What features does googlecar provides\n",
      "Answer: The Googlecar provides several features through its large touchscreen display, which include navigation, entertainment, and climate control. You can easily access these features by touching the corresponding icons on the screen. For example, you can touch the \"Navigation\" icon to get directions to your destination or touch the \"Music\" icon to play your favorite songs.\n"
     ]
    }
   ],
   "source": [
    "# Define your both qa and refine prompt\n",
    "custom_qa_prompt = PromptTemplate(\n",
    "    \"\"\"\n",
    "    You are a helpful and informative bot that answers questions using text from the reference passage included below. Be sure to respond in a complete sentence, being comprehensive, including all relevant background information. However, you are talking to a non-technical audience, so be sure to break down complicated concepts and strike a friendly and conversational tone. If the passage is irrelevant to the answer, you may ignore it.\n",
    "\n",
    "    Context: {context_str}\n",
    "    Question: {query_str}\n",
    "    Answer:\n",
    "    \"\"\"\n",
    ")\n",
    "\n",
    "# Define your custom refine prompt (you'll need this too)\n",
    "custom_refine_prompt = PromptTemplate(\n",
    "    \"\"\"\n",
    "    You are an AI assistant helping to refine answers based on new context.\n",
    "    Please refine the existing answer using the new context provided.\n",
    "    If the new context isn't relevant, return the original answer.\n",
    "\n",
    "    Original Answer: {existing_answer}\n",
    "    New Context: {context_str}\n",
    "    Question: {query_str}\n",
    "    Refined Answer:\n",
    "    \"\"\"\n",
    ")\n",
    "\n",
    "# Create the query engine with custom prompts\n",
    "custom_query_engine = index.as_query_engine(\n",
    "    text_qa_template=custom_qa_prompt,\n",
    "    refine_template=custom_refine_prompt,\n",
    "    response_mode='refine'\n",
    ")\n",
    "# Get the response\n",
    "query = \"What features does googlecar provides\"\n",
    "response = custom_query_engine.query(query)\n",
    "print(f'Query: {query}\\nAnswer: {response}')\n"
   ]
  },
  {
   "cell_type": "code",
   "execution_count": 13,
   "id": "5bc58d00a22c51e5",
   "metadata": {
    "ExecuteTime": {
     "end_time": "2024-12-10T09:20:37.374140Z",
     "start_time": "2024-12-10T09:20:37.370939Z"
    }
   },
   "outputs": [
    {
     "name": "stdout",
     "output_type": "stream",
     "text": [
      "['response_synthesizer:text_qa_template', 'response_synthesizer:refine_template']\n",
      "\n",
      "=== response_synthesizer:text_qa_template ===\n",
      "\n",
      "    You are a helpful and informative bot that answers questions using text from the reference passage included below. Be sure to respond in a complete sentence, being comprehensive, including all relevant background information. However, you are talking to a non-technical audience, so be sure to break down complicated concepts and strike a friendly and conversational tone. If the passage is irrelevant to the answer, you may ignore it.\n",
      "\n",
      "    Context: {context_str}\n",
      "    Question: {query_str}\n",
      "    Answer:\n",
      "    \n",
      "\n",
      "=== response_synthesizer:refine_template ===\n",
      "\n",
      "    You are an AI assistant helping to refine answers based on new context.\n",
      "    Please refine the existing answer using the new context provided.\n",
      "    If the new context isn't relevant, return the original answer.\n",
      "\n",
      "    Original Answer: {existing_answer}\n",
      "    New Context: {context_str}\n",
      "    Question: {query_str}\n",
      "    Refined Answer:\n",
      "    \n"
     ]
    }
   ],
   "source": [
    "prompt_dict = custom_query_engine.get_prompts()\n",
    "print(list(prompt_dict.keys()))\n",
    "# print the text_qa_template\n",
    "# Print all prompt keys and their content\n",
    "for key, prompt in prompt_dict.items():\n",
    "    print(f\"\\n=== {key} ===\")\n",
    "    print(prompt.get_template())"
   ]
  },
  {
   "cell_type": "markdown",
   "id": "fb6bc58aaeb737bb",
   "metadata": {},
   "source": [
    "## Next Steps"
   ]
  },
  {
   "cell_type": "markdown",
   "id": "f0a66ad9d7811085",
   "metadata": {},
   "source": [
    "Congratulations on building a Retrieval-Augmented Generation system using LlamaIndex and Azure OpenAI! This example demonstrates the basics, but LlamaIndex offers many more advanced features. A great paper to read regarding best practice for RAG:\n",
    "> Wang, Xiaohua, Zhenghua Wang, Xuan Gao, Feiran Zhang, Yixin Wu, Zhibo Xu, Tianyuan Shi, et al. “Searching for Best Practices in Retrieval-Augmented Generation.” arXiv, July 1, 2024. http://arxiv.org/abs/2407.01219.\n",
    "\n",
    "Steps include:\n",
    "- chunking, embedding\n",
    "- retrieval: Hybrid search (BM25 + semantic search), HyDE\n",
    "- Reranking\n",
    "- Repacking\n",
    "- Summarization"
   ]
  }
 ],
 "metadata": {
  "kernelspec": {
   "display_name": "llm",
   "language": "python",
   "name": "python3"
  },
  "language_info": {
   "codemirror_mode": {
    "name": "ipython",
    "version": 3
   },
   "file_extension": ".py",
   "mimetype": "text/x-python",
   "name": "python",
   "nbconvert_exporter": "python",
   "pygments_lexer": "ipython3",
   "version": "3.10.15"
  }
 },
 "nbformat": 4,
 "nbformat_minor": 5
}
