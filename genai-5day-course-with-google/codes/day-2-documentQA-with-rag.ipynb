{
 "cells": [
  {
   "metadata": {},
   "cell_type": "markdown",
   "source": [
    "The original notebook is available at [Kaggle]https://www.kaggle.com/code/markishere/day-2-document-q-a-with-rag), which use the Gemini API and AI Studio.\n",
    "In my notebook, I will use llamaIndex to call chatgpt API."
   ],
   "id": "c0f8a46b7af76cd9"
  },
  {
   "metadata": {},
   "cell_type": "markdown",
   "source": "# Day 2 - Document Q&A with RAG using LlamaIndex\n",
   "id": "c40542d684a0a40"
  }
 ],
 "metadata": {
  "kernelspec": {
   "display_name": "Python 3",
   "language": "python",
   "name": "python3"
  },
  "language_info": {
   "codemirror_mode": {
    "name": "ipython",
    "version": 2
   },
   "file_extension": ".py",
   "mimetype": "text/x-python",
   "name": "python",
   "nbconvert_exporter": "python",
   "pygments_lexer": "ipython2",
   "version": "2.7.6"
  }
 },
 "nbformat": 4,
 "nbformat_minor": 5
}
